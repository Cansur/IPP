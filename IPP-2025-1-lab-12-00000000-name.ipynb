{
 "cells": [
  {
   "cell_type": "markdown",
   "id": "797d2e43-d1aa-4336-a7b7-c2247577d58a",
   "metadata": {},
   "source": [
    "<h1 align='center'> 영상처리 프로그래밍 실습 12</h1>\n",
    "\n",
    "<h6 align='right'> 2025. 6. 12. </h6>"
   ]
  },
  {
   "cell_type": "markdown",
   "id": "db5adea0",
   "metadata": {},
   "source": [
    "<div class=\"alert alert-block alert-info\">\n",
    "    \n",
    "- 파일 이름에서 00000000을 자신의 학번으로, name을 자신의 이름으로 수정하세요.\n",
    "\n",
    "- 다음 줄에 자신의 이름, 학번, 학과(전공)을 적으세요.\n",
    "\n",
    "* 이름:   &nbsp;&nbsp;          학번:    &nbsp;&nbsp;         학과(전공):\n",
    "    \n",
    "</div>\n",
    "\n",
    "- JupyterLab 문서의 최신 버전은 [JupyterLab Documentation](https://jupyterlab.readthedocs.io/en/stable/index.html#/)을  참고하라\n",
    "\n",
    "- Markdown은 [Markdown Guide](https://www.markdownguide.org/)를 참고하라.\n",
    "- [Markdown Cheat Sheet](https://www.markdownguide.org/cheat-sheet/)\n",
    "\n",
    "\n",
    "* 제출 마감: 6월 18일 (월) 오후 10:00까지 최종본을 SmartLEAD제출\n",
    "\n"
   ]
  },
  {
   "cell_type": "markdown",
   "id": "3abebcd4-7746-4043-952f-7c60a31b26d9",
   "metadata": {},
   "source": [
    "### 문제 1.\n",
    "\n",
    "MNIST handwritten digits dataset를 이용해서 직접 쓴 숫자를 인식하는 프로그램을 만들려고 한다.\n",
    "\n",
    "### 1.1\n",
    "\n",
    "아래 URL에서 mnist_784.arff 파일을 다운로드하라.\n",
    "\n",
    "https://www.openml.org/search?type=data&sort=runs&id=554&status=active\n",
    "\n",
    "(Smartlead에서도 다운로드할 수 있다.)\n"
   ]
  },
  {
   "cell_type": "markdown",
   "id": "b7ab7ac4-951c-47bc-886b-43b3d329c098",
   "metadata": {},
   "source": [
    "#### 1.2\n",
    "\n",
    "다음 셀에 있는 프로그램을 실행하라."
   ]
  },
  {
   "cell_type": "code",
   "execution_count": 4,
   "id": "53e43e53-d69b-4c52-9d43-b08f67dbc431",
   "metadata": {},
   "outputs": [],
   "source": [
    "import cv2\n",
    "import pandas as pd\n",
    "from scipy.io import arff\n",
    "import numpy as np\n",
    "import matplotlib.pyplot as plt\n",
    "from sklearn.neighbors import KNeighborsClassifier\n",
    "from sklearn.model_selection import train_test_split"
   ]
  },
  {
   "cell_type": "markdown",
   "id": "f572de56-7247-40d9-b13d-031597405b08",
   "metadata": {},
   "source": [
    "#### 1.3: 마우스로 숫자 쓰기 인터페이스 만들기\n",
    "\n",
    "- 목표: OpenCV 마우스 이벤트를 활용하여 마우스로 숫자를 그릴 수 있는 인터페이스를 만든다.\n",
    "\n",
    "- 세부 조건:\n",
    "  - 검정 배경 창을 띄우고, 마우스를 움직일 때 궤적을 흰색으로 그려야 한다.\n",
    "  - 왼쪽 마우스 버튼을 누른 상태에서만 선이 그려지도록 한다.\n",
    "  - 창의 크기는 MNIST의 크기(28×28)의 정수배로 설정할 것 (예: 280×280)\n",
    "  - **키보드 'c'**를 누르면 화면이 지워진다.\n",
    "  - **키보드 'q'**를 누르면 프로그램이 종료된다.\n",
    "\n",
    "- 힌트:\n",
    "  - cv2.setMouseCallback() 함수 사용\n",
    "  - cv2.line() 또는 cv2.circle()로 궤적 표시\n",
    "  - drawing = True/False 상태 변수 활용\n"
   ]
  },
  {
   "cell_type": "code",
   "execution_count": null,
   "id": "277faa2c-0aa3-430a-95b0-9ff5eebfaad0",
   "metadata": {},
   "outputs": [],
   "source": []
  },
  {
   "cell_type": "code",
   "execution_count": null,
   "id": "5c204452-238b-495f-8a91-a4b5439dcc0f",
   "metadata": {},
   "outputs": [],
   "source": []
  },
  {
   "cell_type": "code",
   "execution_count": null,
   "id": "1a0b0f58-92be-4b99-bb4e-39cdbd783194",
   "metadata": {},
   "outputs": [],
   "source": []
  },
  {
   "cell_type": "markdown",
   "id": "cad2a852-b870-473b-b849-91ad5e1af8bd",
   "metadata": {},
   "source": [
    "#### 1.4: 선 굵기 비교용 시각화\n",
    "- 목표: MNIST 이미지와 직접 쓴 숫자를 나란히 비교해서, 마우스 궤적의 굵기를 확인한다.\n",
    "- 세부 조건:\n",
    "  - MNIST 훈련 데이터에서 첫 3개 이미지를 불러온다.\n",
    "  - 마우스로 쓴 이미지를 28x28로 축소(resize) 한다.\n",
    "  - MNIST 이미지들과 함께 한 화면에 나란히 표시한다.\n",
    "  - 선의 굵기가 어떻게 다른지 눈으로 비교해 본다.\n",
    "\n",
    "- 힌트:\n",
    "  - MNIST 이미지: sklearn.datasets.fetch_openml(\"mnist_784\") 또는 ARFF\n",
    "  - 마우스 그림은 cv2.resize()로 줄이기\n",
    "\n",
    "\n"
   ]
  },
  {
   "cell_type": "code",
   "execution_count": null,
   "id": "e83fb47c",
   "metadata": {},
   "outputs": [],
   "source": []
  },
  {
   "cell_type": "markdown",
   "id": "82cbd56c-8765-4f09-9f38-33e439fe7e35",
   "metadata": {},
   "source": [
    "#### 1.5\n",
    "\n",
    "trackbar 인터페이스를 이용해서 선의 굵기를 조정할 수 있도록 1.3에서 작성한 프로그램을 수정하라."
   ]
  },
  {
   "cell_type": "code",
   "execution_count": null,
   "id": "f1cb8b02-4e67-45a0-8cf0-81835895bfce",
   "metadata": {},
   "outputs": [],
   "source": []
  },
  {
   "cell_type": "markdown",
   "id": "aa6ee787-edc8-4597-bbb2-23e3245e352f",
   "metadata": {},
   "source": [
    "#### 1.6\n",
    "\n",
    "1.5에서 만든 글자와 MNIST의 글자 사이에 어떤 차이가 있는지 살펴 보고 마우스로 만든 글자의 특성이 MNIST 글자와 비슷하게 조작하는 방법을 생각해 보고 프로그램을 보완하라."
   ]
  },
  {
   "cell_type": "code",
   "execution_count": null,
   "id": "affe984e-dc41-46f3-9664-38a585995cc5",
   "metadata": {},
   "outputs": [],
   "source": []
  },
  {
   "cell_type": "markdown",
   "id": "aea4d620-a60a-4d37-a7ad-770095dcc4f2",
   "metadata": {},
   "source": [
    "#### 1.7\n",
    "\n",
    "1.6에서 찾은 방법을 고려해서 예제 1.5에서 만든 프로그램을 보완하라.\n",
    "\n",
    "단, 글자를 다 쓴 후에 오른쪽 마우스를 클릭했을 때, 1.6에서 찾은 방법을 적용한 영상이 창에 표시되어야 한다."
   ]
  },
  {
   "cell_type": "code",
   "execution_count": null,
   "id": "f6ee2a7e-086f-437d-afa5-bee9b8146724",
   "metadata": {},
   "outputs": [],
   "source": []
  },
  {
   "cell_type": "markdown",
   "id": "75363b21-9a90-411e-8455-0313e0b6965d",
   "metadata": {
    "tags": []
   },
   "source": [
    "#### 1.8\n",
    "\n",
    "1.7의 프로그램에 kNN 분류기를 추가해서 마우스로 쓴 글자를 인식하는 프로그램을 작성하라.\n",
    "\n",
    "단, 오른쪽 마우스 버튼을 클릭하면 print 함수를 이용해서 인식 결과를 콘솔에 출력하라."
   ]
  },
  {
   "cell_type": "code",
   "execution_count": null,
   "id": "85a3d1d6-e07c-428a-8ac0-3a0e07804f30",
   "metadata": {
    "scrolled": true
   },
   "outputs": [],
   "source": []
  },
  {
   "cell_type": "markdown",
   "id": "28ee0287-3902-4198-b79c-3cec9ad96e70",
   "metadata": {
    "tags": []
   },
   "source": [
    "#### 1.9\n",
    "\n",
    "cv2.putText 함수의 사용법을 조사해서, 예제 1.8의 프로그램을 수정하여 마우스로 쓴 글자의 인식 결과를 입력 영상 옆에 별도의 영상으로 출력하라."
   ]
  },
  {
   "cell_type": "code",
   "execution_count": null,
   "id": "ec0ce73a-b81b-4b4a-8edd-cb9abb5ea81c",
   "metadata": {},
   "outputs": [],
   "source": []
  }
 ],
 "metadata": {
  "kernelspec": {
   "display_name": "base",
   "language": "python",
   "name": "python3"
  },
  "language_info": {
   "codemirror_mode": {
    "name": "ipython",
    "version": 3
   },
   "file_extension": ".py",
   "mimetype": "text/x-python",
   "name": "python",
   "nbconvert_exporter": "python",
   "pygments_lexer": "ipython3",
   "version": "3.12.7"
  },
  "latex_envs": {
   "LaTeX_envs_menu_present": true,
   "autoclose": false,
   "autocomplete": true,
   "bibliofile": "biblio.bib",
   "cite_by": "apalike",
   "current_citInitial": 1,
   "eqLabelWithNumbers": true,
   "eqNumInitial": 1,
   "hotkeys": {
    "equation": "Ctrl-E",
    "itemize": "Ctrl-I"
   },
   "labels_anchors": false,
   "latex_user_defs": false,
   "report_style_numbering": false,
   "user_envs_cfg": false
  }
 },
 "nbformat": 4,
 "nbformat_minor": 5
}
