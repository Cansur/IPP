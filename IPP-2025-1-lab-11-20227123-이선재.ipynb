{
 "cells": [
  {
   "cell_type": "markdown",
   "id": "797d2e43-d1aa-4336-a7b7-c2247577d58a",
   "metadata": {},
   "source": [
    "<h1 align='center'> 영상처리 프로그래밍 실습 11</h1>\n",
    "\n",
    "<h6 align='right'> 2025. 6. 10. </h6>"
   ]
  },
  {
   "cell_type": "markdown",
   "id": "db5adea0",
   "metadata": {},
   "source": [
    "<div class=\"alert alert-block alert-info\">\n",
    "    \n",
    "- 파일 이름에서 00000000을 자신의 학번으로, name을 자신의 이름으로 수정하세요.\n",
    "\n",
    "- 다음 줄에 자신의 이름, 학번, 학과(전공)을 적으세요.\n",
    "\n",
    "* 이름:  이선재 &nbsp;&nbsp;          학번:  20227123  &nbsp;&nbsp;         학과(전공): 빅데이터\n",
    "    \n",
    "</div>\n",
    "\n",
    "- JupyterLab 문서의 최신 버전은 [JupyterLab Documentation](https://jupyterlab.readthedocs.io/en/stable/index.html#/)을  참고하라\n",
    "\n",
    "- Markdown은 [Markdown Guide](https://www.markdownguide.org/)를 참고하라.\n",
    "- [Markdown Cheat Sheet](https://www.markdownguide.org/cheat-sheet/)\n",
    "\n",
    "\n",
    "* 제출 마감: 6월 16일 (월) 오후 10:00까지 최종본을 SmartLEAD제출\n",
    "\n"
   ]
  },
  {
   "cell_type": "code",
   "execution_count": 2,
   "id": "34e117ec",
   "metadata": {},
   "outputs": [
    {
     "name": "stdout",
     "output_type": "stream",
     "text": [
      "OpenCV version 4.11.0\n",
      "NumPy version 2.2.4\n"
     ]
    }
   ],
   "source": [
    "import cv2\n",
    "import matplotlib.pyplot as plt\n",
    "\n",
    "import numpy as np\n",
    "print(\"OpenCV version\", cv2.__version__)\n",
    "print(\"NumPy version\", np.__version__)"
   ]
  },
  {
   "cell_type": "markdown",
   "id": "3abebcd4-7746-4043-952f-7c60a31b26d9",
   "metadata": {},
   "source": [
    "### 문제 1.\n",
    "\n",
    "MNIST handwritten digits dataset를 이용해서 숫자 인식 프로그램을 만들려고 한다.\n",
    "\n",
    "### 1.1\n",
    "\n",
    "아래 URL에서 mnist_784.arff 파일을 다운로드하라.\n",
    "\n",
    "https://www.openml.org/search?type=data&sort=runs&id=554&status=active\n",
    "\n",
    "(Smartlead에서도 다운로드할 수 있다.)\n"
   ]
  },
  {
   "cell_type": "markdown",
   "id": "b7ab7ac4-951c-47bc-886b-43b3d329c098",
   "metadata": {},
   "source": [
    "#### 1.2\n",
    "\n",
    "다음 셀에 있는 프로그램을 실행하라."
   ]
  },
  {
   "cell_type": "code",
   "execution_count": 3,
   "id": "53e43e53-d69b-4c52-9d43-b08f67dbc431",
   "metadata": {},
   "outputs": [],
   "source": [
    "import cv2\n",
    "import pandas as pd\n",
    "from scipy.io import arff\n",
    "import numpy as np\n",
    "import matplotlib.pyplot as plt"
   ]
  },
  {
   "cell_type": "markdown",
   "id": "0e9673a2-d7d5-4766-b34f-cbc9b917d297",
   "metadata": {
    "tags": []
   },
   "source": [
    "#### 1.3\n",
    "arff.loadarff 함수를 이용하여 mnist_784.arff 파일을 읽은 후에, 이를 DataFrame으로 변환하라.\n",
    "\n",
    "```\n",
    "# 파일 경로 예시\n",
    "file_path = \"mnist_784.arff\"\n",
    "\n",
    "# 파일 읽기\n",
    "data, meta = arff.loadarff(file_path)\n",
    "\n",
    "# DataFrame으로 변환\n",
    "df = pd.DataFrame(  # ← 여기에 적절한 변수 전달\n",
    "    ...\n",
    ")\n",
    "```"
   ]
  },
  {
   "cell_type": "code",
   "execution_count": 4,
   "id": "6ac49603-5192-4dda-b87d-87bebc3cfbf8",
   "metadata": {
    "collapsed": true,
    "jupyter": {
     "outputs_hidden": true
    }
   },
   "outputs": [
    {
     "name": "stdout",
     "output_type": "stream",
     "text": [
      "DataFrame 생성 완료!\n",
      "DataFrame shape: (70000, 785)\n",
      "DataFrame columns: 785개\n",
      "첫 번째 컬럼명: pixel1\n",
      "마지막 컬럼명: class\n"
     ]
    }
   ],
   "source": [
    "# 파일 경로\n",
    "file_path = \"mnist_784.arff\"\n",
    "\n",
    "# arff.loadarff 함수를 이용하여 파일 읽기\n",
    "data, meta = arff.loadarff(file_path)\n",
    "\n",
    "# DataFrame으로 변환\n",
    "df = pd.DataFrame(data)\n",
    "\n",
    "print(\"DataFrame 생성 완료!\")\n",
    "print(f\"DataFrame shape: {df.shape}\")\n",
    "print(f\"DataFrame columns: {len(df.columns)}개\")\n",
    "print(f\"첫 번째 컬럼명: {df.columns[0]}\")\n",
    "print(f\"마지막 컬럼명: {df.columns[-1]}\")"
   ]
  },
  {
   "cell_type": "markdown",
   "id": "39599029-5c50-4d06-9420-88f9fa293d89",
   "metadata": {
    "tags": []
   },
   "source": [
    "#### 1.4\n",
    "이 DataFrame의 shape을 구하라.\n",
    "\n",
    "힌트: .shape 속성 사용"
   ]
  },
  {
   "cell_type": "code",
   "execution_count": 5,
   "id": "441122e3-b2cc-4594-8600-a048de616816",
   "metadata": {},
   "outputs": [
    {
     "name": "stdout",
     "output_type": "stream",
     "text": [
      "DataFrame shape: (70000, 785)\n"
     ]
    }
   ],
   "source": [
    "print(f\"DataFrame shape: {df.shape}\")"
   ]
  },
  {
   "cell_type": "markdown",
   "id": "a5b36438-e458-41ef-bb20-b2bd2aabde84",
   "metadata": {
    "tags": []
   },
   "source": [
    "#### 1.5\n",
    "이 DataFrame의 column의 개수를 구하고, 각 column이 무엇을 의미하는지 알아보자.\n",
    "\n",
    "힌트 코드:\n",
    "```\n",
    "print(df.columns[:-1])  # 픽셀 확인\n",
    "print(len(df.columns))  # 전체 column 수 확인\n",
    "```"
   ]
  },
  {
   "cell_type": "code",
   "execution_count": 6,
   "id": "d1e06f4b-3e22-49b8-9b7d-282bdfa6adfe",
   "metadata": {},
   "outputs": [
    {
     "name": "stdout",
     "output_type": "stream",
     "text": [
      "픽셀 확인 : 784개\n",
      "DataFrame columns: 785개\n"
     ]
    }
   ],
   "source": [
    "print(f\"픽셀 확인 : {len(df.columns[:-1])}개\")\n",
    "print(f\"DataFrame columns: {len(df.columns)}개\")"
   ]
  },
  {
   "cell_type": "markdown",
   "id": "95139f0c-5e7e-48df-9f46-509ee912ab0c",
   "metadata": {},
   "source": [
    "#### 의미 설명하기"
   ]
  },
  {
   "cell_type": "markdown",
   "id": "155fffed",
   "metadata": {},
   "source": [
    "\n",
    "1. **픽셀 컬럼 (784개)**: \n",
    "   - `pixel1`, `pixel2`, `pixel3`, ..., `pixel784`\n",
    "   - 각 컬럼은 28×28 = 784 픽셀 중 하나를 나타냅니다\n",
    "   - 픽셀 값은 0~255 사이의 정수값 (흰색=0, 검은색=255)\n",
    "   - 이미지는 왼쪽 위부터 오른쪽 아래로 순서대로 픽셀이 나열됩니다\n",
    "\n",
    "2. **클래스 컬럼 (1개)**:\n",
    "   - `class` 컬럼\n",
    "   - 실제 숫자 레이블 (0~9)\n",
    "   - 각 행이 어떤 숫자를 나타내는지 알려주는 정답값\n",
    "\n",
    "**전체 구조:**\n",
    "- **총 컬럼 수**: 785개 (784개 픽셀 + 1개 클래스)\n",
    "- **각 행**: 하나의 손글씨 숫자 이미지\n",
    "- **이미지 크기**: 28×28 픽셀\n",
    "- **클래스**: 0, 1, 2, 3, 4, 5, 6, 7, 8, 9 (10개 숫자)\n",
    "\n",
    "**픽셀 배열 방식:**\n",
    "```\n",
    "pixel1  pixel2  pixel3  ...  pixel28\n",
    "pixel29 pixel30 pixel31 ...  pixel56\n",
    "...\n",
    "pixel757 pixel758 pixel759 ... pixel784\n",
    "```\n",
    "\n",
    "이렇게 28×28 픽셀을 1차원으로 펼쳐서 784개의 컬럼으로 저장한 것입니다. 각 픽셀 값은 해당 위치의 밝기를 나타내며, 0(흰색)부터 255(검은색)까지의 값을 가집니다."
   ]
  },
  {
   "cell_type": "markdown",
   "id": "d6ce7c1f-ce8c-4f2d-9218-8452a61b8b3e",
   "metadata": {
    "tags": []
   },
   "source": [
    "#### 1.6\n",
    "이 DataFrame의 첫 번째 row를 시각화하라.\n",
    "\n",
    "힌트 코드:\n",
    "```\n",
    "first_row = df.iloc[0]\n",
    "\n",
    "# label 추출\n",
    "label = first_row[-1]\n",
    "\n",
    "# 이미지 배열 변환\n",
    "img = np.array(first_row[:-1], dtype=np.float32).reshape(28, 28)\n",
    "\n",
    "# 시각화\n",
    "plt.imshow(.......)\n",
    "plt.title(f\"Label: {label.decode()}\")\n",
    "....\n",
    "....\n",
    "```"
   ]
  },
  {
   "cell_type": "code",
   "execution_count": 7,
   "id": "f34bdc98-5ffd-4193-8e93-604399f870a4",
   "metadata": {},
   "outputs": [
    {
     "data": {
      "image/png": "[encoded data removed]",
      "text/plain": [
       "<Figure size 600x600 with 1 Axes>"
      ]
     },
     "metadata": {},
     "output_type": "display_data"
    },
    {
     "name": "stdout",
     "output_type": "stream",
     "text": [
      "이미지 shape: (28, 28)\n",
      "픽셀 값 범위: 0.0 ~ 255.0\n",
      "실제 레이블: 5\n"
     ]
    }
   ],
   "source": [
    "# 첫 번째 행 가져오기\n",
    "first_row = df.iloc[0]\n",
    "\n",
    "# label 추출 (byte 타입을 문자열로 변환)\n",
    "label = first_row.iloc[-1].decode()  # decode: byte → string\n",
    "\n",
    "# 이미지 배열 변환 (마지막 컬럼 제외하고 28x28로 reshape)\n",
    "img = np.array(first_row.iloc[:-1], dtype=np.float32).reshape(28, 28)\n",
    "\n",
    "# 시각화\n",
    "plt.figure(figsize=(6, 6))\n",
    "plt.imshow(img, cmap='gray')\n",
    "plt.title(f\"Label: {label}\")\n",
    "plt.axis('off')\n",
    "plt.show()\n",
    "\n",
    "print(f\"이미지 shape: {img.shape}\")\n",
    "print(f\"픽셀 값 범위: {img.min()} ~ {img.max()}\")\n",
    "print(f\"실제 레이블: {label}\")"
   ]
  },
  {
   "cell_type": "markdown",
   "id": "1b3c9586",
   "metadata": {},
   "source": [
    "## 문제 2: 데이터 전처리\n",
    "\n",
    "### 2.1.\n",
    "class 값의 고유값(unique values)과 그 개수를 출력하라.\n",
    "\n",
    "힌트 코드:\n",
    "```\n",
    "print(df['class'].unique())\n",
    "print(df['class'].value_counts())\n",
    "```"
   ]
  },
  {
   "cell_type": "code",
   "execution_count": null,
   "id": "1e3578ab",
   "metadata": {},
   "outputs": [],
   "source": [
    "# class 값의 고유값 출력\n",
    "print(\"고유값:\")\n",
    "print(df['class'].unique())\n",
    "\n",
    "print(\"\\n각 클래스별 개수:\")\n",
    "print(df['class'].value_counts())\n",
    "\n",
    "print(f\"\\n총 클래스 개수: {len(df['class'].unique())}\")\n",
    "print(f\"총 데이터 개수: {len(df)}\")\n"
   ]
  },
  {
   "cell_type": "markdown",
   "id": "bdecdeee",
   "metadata": {},
   "source": [
    "### 2.2\n",
    "class 열을 숫자형으로 변환하라.\n",
    "\n",
    "힌트: class는 현재 문자열(byte type)로 되어 있음. 이를 정수로 바꿔야 함.\n",
    "\n",
    "힌트 코드:\n",
    "```\n",
    "# 문자열을 숫자(int)로 변환\n",
    "df['class'] = df['class'].apply(lambda x: int(x.decode()))\n",
    "```\n"
   ]
  },
  {
   "cell_type": "code",
   "execution_count": 9,
   "id": "5b88b160",
   "metadata": {},
   "outputs": [
    {
     "name": "stdout",
     "output_type": "stream",
     "text": [
      "변환 후 class 데이터 타입: int64\n",
      "변환 후 class 고유값: [5 0 4 1 9 2 3 6 7 8]\n",
      "변환 후 class 샘플 값: 0    5\n",
      "1    0\n",
      "2    4\n",
      "3    1\n",
      "4    9\n",
      "Name: class, dtype: int64\n"
     ]
    }
   ],
   "source": [
    "# class 열을 숫자형으로 변환\n",
    "df['class'] = df['class'].apply(lambda x: int(x.decode()))\n",
    "\n",
    "# 변환 결과 확인\n",
    "print(\"변환 후 class 데이터 타입:\", df['class'].dtype)\n",
    "print(\"변환 후 class 고유값:\", df['class'].unique())\n",
    "print(\"변환 후 class 샘플 값:\", df['class'].head())"
   ]
  },
  {
   "cell_type": "markdown",
   "id": "4e33baa4",
   "metadata": {},
   "source": [
    "### 2.3 데이터와 레이블을 각각 X, y로 나누어라.\n",
    "\n",
    "힌트 코드:\n",
    "```\n",
    "X = df.iloc[:, :-1].values  # 픽셀 값\n",
    "y = df.iloc[:, -1].values   # class 레이블\n",
    "\n",
    "```"
   ]
  },
  {
   "cell_type": "code",
   "execution_count": 10,
   "id": "c4286a66",
   "metadata": {},
   "outputs": [
    {
     "name": "stdout",
     "output_type": "stream",
     "text": [
      "X shape: (70000, 784)\n",
      "y shape: (70000,)\n",
      "X 데이터 타입: float64\n",
      "y 데이터 타입: int64\n",
      "X 샘플 값 (첫 번째 행): [0. 0. 0. 0. 0. 0. 0. 0. 0. 0.]...\n",
      "y 샘플 값 (처음 10개): [5 0 4 1 9 2 1 3 1 4]\n"
     ]
    }
   ],
   "source": [
    "# 데이터와 레이블을 각각 X, y로 나누기\n",
    "X = df.iloc[:, :-1].values  # 픽셀 값 (마지막 컬럼 제외)\n",
    "y = df.iloc[:, -1].values   # class 레이블 (마지막 컬럼만)\n",
    "\n",
    "# 결과 확인\n",
    "print(f\"X shape: {X.shape}\")\n",
    "print(f\"y shape: {y.shape}\")\n",
    "print(f\"X 데이터 타입: {X.dtype}\")\n",
    "print(f\"y 데이터 타입: {y.dtype}\")\n",
    "print(f\"X 샘플 값 (첫 번째 행): {X[0][:10]}...\")  # 처음 10개 픽셀만 출력\n",
    "print(f\"y 샘플 값 (처음 10개): {y[:10]}\")"
   ]
  },
  {
   "cell_type": "markdown",
   "id": "811601b0",
   "metadata": {},
   "source": [
    "### 2.4\n",
    "문제: X의 값을 0~1 범위로 정규화하라.\n",
    "\n",
    "힌트 코드:\n",
    "```\n",
    "X = X / 255.0\n",
    "```"
   ]
  },
  {
   "cell_type": "code",
   "execution_count": 11,
   "id": "f3dc93c3",
   "metadata": {},
   "outputs": [
    {
     "name": "stdout",
     "output_type": "stream",
     "text": [
      "정규화 후 X shape: (70000, 784)\n",
      "정규화 후 X 데이터 타입: float64\n",
      "정규화 후 X 최솟값: 0.0\n",
      "정규화 후 X 최댓값: 1.0\n",
      "정규화 후 X 샘플 값 (첫 번째 행): [0. 0. 0. 0. 0. 0. 0. 0. 0. 0.]...\n"
     ]
    }
   ],
   "source": [
    "# X의 값을 0~1 범위로 정규화\n",
    "X = X / 255.0\n",
    "\n",
    "# 정규화 결과 확인\n",
    "print(f\"정규화 후 X shape: {X.shape}\")\n",
    "print(f\"정규화 후 X 데이터 타입: {X.dtype}\")\n",
    "print(f\"정규화 후 X 최솟값: {X.min()}\")\n",
    "print(f\"정규화 후 X 최댓값: {X.max()}\")\n",
    "print(f\"정규화 후 X 샘플 값 (첫 번째 행): {X[0][:10]}...\")  # 처음 10개 픽셀만 출력"
   ]
  },
  {
   "cell_type": "markdown",
   "id": "875ca4ba",
   "metadata": {},
   "source": [
    "## 문제 3. KNN 분류기 만들기\n",
    "\n",
    "### 3.1.데이터를 학습용과 테스트용으로 나누어라. (학습: 80%, 테스트: 20%)\n",
    "\n",
    "힌트 코드:\n",
    "```\n",
    "from sklearn.model_selection import train_test_split\n",
    "\n",
    "X_train, X_test, y_train, y_test = train_test_split(\n",
    "    X, y, test_size=0.2, random_state=42\n",
    ")\n",
    "\n",
    "```"
   ]
  },
  {
   "cell_type": "code",
   "execution_count": null,
   "id": "84ee7e26",
   "metadata": {},
   "outputs": [],
   "source": [
    "# 데이터를 학습용과 테스트용으로 나누기\n",
    "from sklearn.model_selection import train_test_split\n",
    "\n",
    "X_train, X_test, y_train, y_test = train_test_split(\n",
    "    X, y, test_size=0.2, random_state=42\n",
    ")\n",
    "\n",
    "# 결과 확인\n",
    "print(f\"전체 데이터 개수: {len(X)}\")\n",
    "print(f\"학습 데이터 개수: {len(X_train)}\")\n",
    "print(f\"테스트 데이터 개수: {len(X_test)}\")\n",
    "print(f\"학습 데이터 비율: {len(X_train)/len(X):.1%}\")\n",
    "print(f\"테스트 데이터 비율: {len(X_test)/len(X):.1%}\")\n",
    "\n",
    "print(f\"\\nX_train shape: {X_train.shape}\")\n",
    "print(f\"X_test shape: {X_test.shape}\")\n",
    "print(f\"y_train shape: {y_train.shape}\")\n",
    "print(f\"y_test shape: {y_test.shape}\")\n",
    "\n",
    "# 각 클래스별 분포 확인\n",
    "print(f\"\\n학습 데이터 클래스 분포:\")\n",
    "print(pd.Series(y_train).value_counts().sort_index())\n",
    "\n",
    "print(f\"\\n테스트 데이터 클래스 분포:\")\n",
    "print(pd.Series(y_test).value_counts().sort_index())"
   ]
  },
  {
   "cell_type": "markdown",
   "id": "6ae69229",
   "metadata": {},
   "source": [
    "### 3.2\n",
    "\n",
    "문제: KNN 분류기를 만들고 학습하라. (k=3)\n",
    "\n",
    "힌트 코드:\n",
    "```\n",
    "from sklearn.neighbors import KNeighborsClassifier\n",
    "\n",
    "knn = KNeighborsClassifier(n_neighbors=3)\n",
    "knn.fit(X_train, y_train)\n",
    "\n",
    "```"
   ]
  },
  {
   "cell_type": "code",
   "execution_count": 14,
   "id": "e165f87e",
   "metadata": {},
   "outputs": [
    {
     "name": "stdout",
     "output_type": "stream",
     "text": [
      "KNN 모델 학습 완료!\n",
      "학습된 데이터 개수: 56000\n",
      "특성 개수: 784\n",
      "클래스 개수: 10\n",
      "클래스 목록: [0 1 2 3 4 5 6 7 8 9]\n",
      "학습 데이터 정확도: 0.9858\n"
     ]
    }
   ],
   "source": [
    "# KNN 분류기를 만들고 학습하기\n",
    "from sklearn.neighbors import KNeighborsClassifier\n",
    "\n",
    "# KNN 분류기 생성 (k=3)\n",
    "knn = KNeighborsClassifier(n_neighbors=3)\n",
    "\n",
    "# 모델 학습\n",
    "knn.fit(X_train, y_train)\n",
    "\n",
    "# 학습 완료 확인\n",
    "print(\"KNN 모델 학습 완료!\")\n",
    "print(f\"학습된 데이터 개수: {knn.n_samples_fit_}\")\n",
    "print(f\"특성 개수: {knn.n_features_in_}\")\n",
    "print(f\"클래스 개수: {len(knn.classes_)}\")\n",
    "print(f\"클래스 목록: {knn.classes_}\")"
   ]
  },
  {
   "cell_type": "markdown",
   "id": "de13f5c3",
   "metadata": {},
   "source": [
    "### 3.3\n",
    "문제: 테스트 데이터에 대해 정확도를 출력하라.\n",
    "\n",
    "힌트 코드:\n",
    "```\n",
    "accuracy = knn.score(X_test, y_test)\n",
    "print(\"Test Accuracy:\", accuracy)\n",
    "```"
   ]
  },
  {
   "cell_type": "code",
   "execution_count": 15,
   "id": "6bcd2069",
   "metadata": {},
   "outputs": [
    {
     "name": "stdout",
     "output_type": "stream",
     "text": [
      "학습 데이터 정확도: 0.9858\n"
     ]
    }
   ],
   "source": [
    "# 학습 데이터에 대한 정확도 확인\n",
    "train_accuracy = knn.score(X_train, y_train)\n",
    "print(f\"학습 데이터 정확도: {train_accuracy:.4f}\")"
   ]
  },
  {
   "cell_type": "markdown",
   "id": "e068dad5",
   "metadata": {},
   "source": [
    "### 3.4 \n",
    "Confusion matrix를 구하고 heatmap으로 시각화하라.\n",
    "\n",
    "힌트 코드:\n",
    "```\n",
    "from sklearn.metrics import confusion_matrix\n",
    "import seaborn as sns\n",
    "\n",
    "y_pred = knn.predict(X_test)\n",
    "cm = confusion_matrix(y_test, y_pred)\n",
    "\n",
    "plt.figure(figsize=(8, 6))\n",
    "sns.heatmap(cm, annot=True, fmt='d', cmap='Blues')\n",
    "plt.xlabel(\"Predicted\")\n",
    "plt.ylabel(\"True\")\n",
    "plt.title(\"Confusion Matrix\")\n",
    "plt.show()\n",
    "\n",
    "```"
   ]
  },
  {
   "cell_type": "code",
   "execution_count": 17,
   "id": "b2764b00",
   "metadata": {},
   "outputs": [
    {
     "name": "stderr",
     "output_type": "stream",
     "text": [
      "C:\\Users\\Cansur\\AppData\\Roaming\\Python\\Python313\\site-packages\\IPython\\core\\pylabtools.py:170: UserWarning: Glyph 49892 (\\N{HANGUL SYLLABLE SIL}) missing from font(s) DejaVu Sans.\n",
      "  fig.canvas.print_figure(bytes_io, **kw)\n",
      "C:\\Users\\Cansur\\AppData\\Roaming\\Python\\Python313\\site-packages\\IPython\\core\\pylabtools.py:170: UserWarning: Glyph 51228 (\\N{HANGUL SYLLABLE JE}) missing from font(s) DejaVu Sans.\n",
      "  fig.canvas.print_figure(bytes_io, **kw)\n",
      "C:\\Users\\Cansur\\AppData\\Roaming\\Python\\Python313\\site-packages\\IPython\\core\\pylabtools.py:170: UserWarning: Glyph 44050 (\\N{HANGUL SYLLABLE GABS}) missing from font(s) DejaVu Sans.\n",
      "  fig.canvas.print_figure(bytes_io, **kw)\n",
      "C:\\Users\\Cansur\\AppData\\Roaming\\Python\\Python313\\site-packages\\IPython\\core\\pylabtools.py:170: UserWarning: Glyph 50696 (\\N{HANGUL SYLLABLE YE}) missing from font(s) DejaVu Sans.\n",
      "  fig.canvas.print_figure(bytes_io, **kw)\n",
      "C:\\Users\\Cansur\\AppData\\Roaming\\Python\\Python313\\site-packages\\IPython\\core\\pylabtools.py:170: UserWarning: Glyph 52769 (\\N{HANGUL SYLLABLE CEUG}) missing from font(s) DejaVu Sans.\n",
      "  fig.canvas.print_figure(bytes_io, **kw)\n"
     ]
    },
    {
     "data": {
      "image/png": "[encoded data removed]",
      "text/plain": [
       "<Figure size 1000x800 with 2 Axes>"
      ]
     },
     "metadata": {},
     "output_type": "display_data"
    },
    {
     "name": "stdout",
     "output_type": "stream",
     "text": [
      "Confusion Matrix Shape: (10, 10)\n",
      "총 테스트 샘플 수: 14000\n",
      "정확히 분류된 샘플 수: 13598\n",
      "전체 정확도: 0.9713\n",
      "\n",
      "각 클래스별 정확도:\n",
      "클래스 0: 0.9940\n",
      "클래스 1: 0.9944\n",
      "클래스 2: 0.9659\n",
      "클래스 3: 0.9644\n",
      "클래스 4: 0.9637\n",
      "클래스 5: 0.9694\n",
      "클래스 6: 0.9907\n",
      "클래스 7: 0.9760\n",
      "클래스 8: 0.9352\n",
      "클래스 9: 0.9549\n",
      "\n",
      "가장 잘 분류되는 클래스: 1 (정확도: 0.9944)\n",
      "가장 어려운 클래스: 8 (정확도: 0.9352)\n"
     ]
    }
   ],
   "source": [
    "# Confusion matrix 구하고 heatmap으로 시각화\n",
    "from sklearn.metrics import confusion_matrix\n",
    "import seaborn as sns\n",
    "\n",
    "# 테스트 데이터에 대한 예측 수행\n",
    "y_pred = knn.predict(X_test)\n",
    "\n",
    "# Confusion matrix 계산\n",
    "cm = confusion_matrix(y_test, y_pred)\n",
    "\n",
    "# Heatmap으로 시각화\n",
    "plt.figure(figsize=(10, 8))\n",
    "sns.heatmap(cm, annot=True, fmt='d', cmap='Blues', \n",
    "            xticklabels=range(10), yticklabels=range(10))\n",
    "plt.xlabel(\"예측값 (Predicted)\")\n",
    "plt.ylabel(\"실제값 (True)\")\n",
    "plt.title(\"KNN Confusion Matrix (k=3)\")\n",
    "plt.show()\n",
    "\n",
    "# Confusion matrix 정보 출력\n",
    "print(f\"Confusion Matrix Shape: {cm.shape}\")\n",
    "print(f\"총 테스트 샘플 수: {cm.sum()}\")\n",
    "print(f\"정확히 분류된 샘플 수: {cm.trace()}\")\n",
    "print(f\"전체 정확도: {cm.trace()/cm.sum():.4f}\")\n",
    "\n",
    "# 각 클래스별 정확도 계산\n",
    "class_accuracy = cm.diagonal() / cm.sum(axis=1)\n",
    "print(f\"\\n각 클래스별 정확도:\")\n",
    "for i, acc in enumerate(class_accuracy):\n",
    "    print(f\"클래스 {i}: {acc:.4f}\")\n",
    "\n",
    "# 가장 잘 분류되는 클래스와 가장 어려운 클래스 찾기\n",
    "best_class = np.argmax(class_accuracy)\n",
    "worst_class = np.argmin(class_accuracy)\n",
    "print(f\"\\n가장 잘 분류되는 클래스: {best_class} (정확도: {class_accuracy[best_class]:.4f})\")\n",
    "print(f\"가장 어려운 클래스: {worst_class} (정확도: {class_accuracy[worst_class]:.4f})\")"
   ]
  },
  {
   "cell_type": "markdown",
   "id": "6574ff56",
   "metadata": {},
   "source": [
    "## 문제 4. KNN 성능 분석\n",
    "\n",
    "### 4.1\n",
    "k 값을 1~15까지 변경하면서 정확도를 구하고 그래프로 표시하라.\n",
    "\n",
    "힌트 코드:\n",
    "```\n",
    "accuracy_list = []\n",
    "\n",
    "for k in range(1, 16):\n",
    "    knn = KNeighborsClassifier(n_neighbors=k)\n",
    "    knn.fit(X_train, y_train)\n",
    "    acc = knn.score(X_test, y_test)\n",
    "    accuracy_list.append(acc)\n",
    "\n",
    "plt.plot(range(1, 16), accuracy_list, marker='o')\n",
    "plt.xlabel(\"k\")\n",
    "plt.ylabel(\"Accuracy\")\n",
    "plt.title(\"KNN Accuracy vs k\")\n",
    "plt.grid(True)\n",
    "plt.show()\n",
    "\n",
    "```"
   ]
  },
  {
   "cell_type": "code",
   "execution_count": null,
   "id": "fa930e7d",
   "metadata": {},
   "outputs": [],
   "source": [
    "# k 값을 1~15까지 변경하면서 정확도를 구하고 그래프로 표시\n",
    "accuracy_list = []\n",
    "\n",
    "for k in range(1, 16):\n",
    "    knn = KNeighborsClassifier(n_neighbors=k)\n",
    "    knn.fit(X_train, y_train)\n",
    "    acc = knn.score(X_test, y_test)\n",
    "    accuracy_list.append(acc)\n",
    "\n",
    "# 그래프로 시각화\n",
    "plt.figure(figsize=(10, 6))\n",
    "plt.plot(range(1, 16), accuracy_list, marker='o', linewidth=2, markersize=8)\n",
    "plt.xlabel(\"k value\", fontsize=12)\n",
    "plt.ylabel(\"Accuracy\", fontsize=12)\n",
    "plt.title(\"KNN Accuracy vs k\", fontsize=14)\n",
    "plt.grid(True, alpha=0.3)\n",
    "plt.xticks(range(1, 16))\n",
    "\n",
    "# 최고 정확도 표시\n",
    "best_k = np.argmax(accuracy_list) + 1\n",
    "best_accuracy = max(accuracy_list)\n",
    "plt.annotate(f'Good Accuracy: k={best_k}, {best_accuracy:.4f}', \n",
    "             xy=(best_k, best_accuracy), \n",
    "             xytext=(best_k+2, best_accuracy-0.01),\n",
    "             arrowprops=dict(arrowstyle='->', color='red'),\n",
    "             fontsize=10, color='red')\n",
    "\n",
    "plt.tight_layout()\n",
    "plt.show()\n",
    "\n",
    "# 결과 요약\n",
    "print(f\"\\n=== 결과 요약 ===\")\n",
    "print(f\"최고 정확도: {best_accuracy:.4f} (k={best_k})\")\n",
    "print(f\"최저 정확도: {min(accuracy_list):.4f} (k={np.argmin(accuracy_list)+1})\")\n",
    "print(f\"평균 정확도: {np.mean(accuracy_list):.4f}\")\n",
    "print(f\"정확도 표준편차: {np.std(accuracy_list):.4f}\")"
   ]
  },
  {
   "cell_type": "markdown",
   "id": "ef1384da",
   "metadata": {},
   "source": [
    "### 4.2\n",
    "가장 성능이 좋았던 k 값을 선택하고 이유를 적어보자.\n",
    "\n",
    "힌트: 위 그래프에서 최고점을 가진 k를 찾고, 과적합/과소적합과 관련지어 서술\n"
   ]
  },
  {
   "cell_type": "code",
   "execution_count": 21,
   "id": "8063f33d-d32b-4815-a6d2-5bdbd0588de4",
   "metadata": {},
   "outputs": [
    {
     "name": "stdout",
     "output_type": "stream",
     "text": [
      "=== KNN 모델 최적 k 값 분석 ===\n",
      "최적 k 값: 1\n",
      "최적 정확도: 0.9720\n",
      "\n",
      "=== 최적 k=1 모델 성능 ===\n",
      "학습 데이터 정확도: 1.0000\n",
      "테스트 데이터 정확도: 0.9720\n",
      "정확도 차이: 0.0280\n",
      "⚠️ 약간의 과적합: 학습과 테스트 성능 차이가 있습니다.\n"
     ]
    }
   ],
   "source": [
    "# 4.1에서 구한 결과를 바탕으로 최적 k 값 분석\n",
    "print(\"=== KNN 모델 최적 k 값 분석 ===\")\n",
    "\n",
    "# 최적 k 값 찾기\n",
    "best_k = np.argmax(accuracy_list) + 1\n",
    "best_accuracy = max(accuracy_list)\n",
    "\n",
    "print(f\"최적 k 값: {best_k}\")\n",
    "print(f\"최적 정확도: {best_accuracy:.4f}\")\n",
    "\n",
    "# 학습 데이터와 테스트 데이터 정확도 비교 (최적 k로)\n",
    "optimal_knn = KNeighborsClassifier(n_neighbors=best_k)\n",
    "optimal_knn.fit(X_train, y_train)\n",
    "\n",
    "train_accuracy = optimal_knn.score(X_train, y_train)\n",
    "test_accuracy = optimal_knn.score(X_test, y_test)\n",
    "\n",
    "print(f\"\\n=== 최적 k={best_k} 모델 성능 ===\")\n",
    "print(f\"학습 데이터 정확도: {train_accuracy:.4f}\")\n",
    "print(f\"테스트 데이터 정확도: {test_accuracy:.4f}\")\n",
    "print(f\"정확도 차이: {train_accuracy - test_accuracy:.4f}\")\n",
    "\n",
    "# 과적합/과소적합 분석\n",
    "if train_accuracy - test_accuracy > 0.05:\n",
    "    print(\"⚠️ 과적합 의심: 학습 데이터와 테스트 데이터 정확도 차이가 큽니다.\")\n",
    "elif train_accuracy - test_accuracy < 0.01:\n",
    "    print(\"✅ 적절한 일반화: 학습과 테스트 성능이 비슷합니다.\")\n",
    "else:\n",
    "    print(\"⚠️ 약간의 과적합: 학습과 테스트 성능 차이가 있습니다.\")"
   ]
  },
  {
   "cell_type": "markdown",
   "id": "bcad94b4",
   "metadata": {},
   "source": [
    "best_k = np.argmax(accuracy_list) + 1\n",
    "best_accuracy = max(accuracy_list)\n",
    "\n",
    "코드를 이용해서 최적 k 값을 구할 수 있었습니다. 하지만, 현재 보여지는 것처럼 너무 높은 정확도로 인해\n",
    "사실상 과적합이 있어서 이렇게 높은 정확도를 보인다고 생각합니다. \n",
    "\n",
    "그래서 실제로 사용하기에는 k값이 3~5 사이가 가장\n",
    "적당하다고 생각하고 k 7이상으로 높이면 그것대로 과소적합이 발생할 가능성이 있습니다.\n",
    "그래서 최적의 값은 1이지만 실제로 사용할 때는 3을 사용할 것 같습니다."
   ]
  }
 ],
 "metadata": {
  "kernelspec": {
   "display_name": "Python 3",
   "language": "python",
   "name": "python3"
  },
  "language_info": {
   "codemirror_mode": {
    "name": "ipython",
    "version": 3
   },
   "file_extension": ".py",
   "mimetype": "text/x-python",
   "name": "python",
   "nbconvert_exporter": "python",
   "pygments_lexer": "ipython3",
   "version": "3.13.2"
  },
  "latex_envs": {
   "LaTeX_envs_menu_present": true,
   "autoclose": false,
   "autocomplete": true,
   "bibliofile": "biblio.bib",
   "cite_by": "apalike",
   "current_citInitial": 1,
   "eqLabelWithNumbers": true,
   "eqNumInitial": 1,
   "hotkeys": {
    "equation": "Ctrl-E",
    "itemize": "Ctrl-I"
   },
   "labels_anchors": false,
   "latex_user_defs": false,
   "report_style_numbering": false,
   "user_envs_cfg": false
  }
 },
 "nbformat": 4,
 "nbformat_minor": 5
}
