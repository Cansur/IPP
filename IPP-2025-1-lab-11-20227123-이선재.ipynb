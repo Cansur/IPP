{
 "cells": [
  {
   "cell_type": "markdown",
   "id": "797d2e43-d1aa-4336-a7b7-c2247577d58a",
   "metadata": {},
   "source": [
    "<h1 align='center'> 영상처리 프로그래밍 실습 11</h1>\n",
    "\n",
    "<h6 align='right'> 2025. 6. 10. </h6>"
   ]
  },
  {
   "cell_type": "markdown",
   "id": "db5adea0",
   "metadata": {},
   "source": [
    "<div class=\"alert alert-block alert-info\">\n",
    "    \n",
    "- 파일 이름에서 00000000을 자신의 학번으로, name을 자신의 이름으로 수정하세요.\n",
    "\n",
    "- 다음 줄에 자신의 이름, 학번, 학과(전공)을 적으세요.\n",
    "\n",
    "* 이름:   &nbsp;&nbsp;          학번:    &nbsp;&nbsp;         학과(전공):\n",
    "    \n",
    "</div>\n",
    "\n",
    "- JupyterLab 문서의 최신 버전은 [JupyterLab Documentation](https://jupyterlab.readthedocs.io/en/stable/index.html#/)을  참고하라\n",
    "\n",
    "- Markdown은 [Markdown Guide](https://www.markdownguide.org/)를 참고하라.\n",
    "- [Markdown Cheat Sheet](https://www.markdownguide.org/cheat-sheet/)\n",
    "\n",
    "\n",
    "* 제출 마감: 6월 16일 (월) 오후 10:00까지 최종본을 SmartLEAD제출\n",
    "\n"
   ]
  },
  {
   "cell_type": "code",
   "execution_count": 1,
   "id": "34e117ec",
   "metadata": {},
   "outputs": [
    {
     "name": "stdout",
     "output_type": "stream",
     "text": [
      "OpenCV version 4.10.0\n",
      "NumPy version 1.26.4\n"
     ]
    }
   ],
   "source": [
    "import cv2\n",
    "import matplotlib.pyplot as plt\n",
    "\n",
    "import numpy as np\n",
    "print(\"OpenCV version\", cv2.__version__)\n",
    "print(\"NumPy version\", np.__version__)"
   ]
  },
  {
   "cell_type": "markdown",
   "id": "3abebcd4-7746-4043-952f-7c60a31b26d9",
   "metadata": {},
   "source": [
    "### 문제 1.\n",
    "\n",
    "MNIST handwritten digits dataset를 이용해서 숫자 인식 프로그램을 만들려고 한다.\n",
    "\n",
    "### 1.1\n",
    "\n",
    "아래 URL에서 mnist_784.arff 파일을 다운로드하라.\n",
    "\n",
    "https://www.openml.org/search?type=data&sort=runs&id=554&status=active\n",
    "\n",
    "(Smartlead에서도 다운로드할 수 있다.)\n"
   ]
  },
  {
   "cell_type": "markdown",
   "id": "b7ab7ac4-951c-47bc-886b-43b3d329c098",
   "metadata": {},
   "source": [
    "#### 1.2\n",
    "\n",
    "다음 셀에 있는 프로그램을 실행하라."
   ]
  },
  {
   "cell_type": "code",
   "execution_count": 8,
   "id": "53e43e53-d69b-4c52-9d43-b08f67dbc431",
   "metadata": {},
   "outputs": [],
   "source": [
    "import cv2\n",
    "import pandas as pd\n",
    "from scipy.io import arff\n",
    "import numpy as np\n",
    "import matplotlib.pyplot as plt"
   ]
  },
  {
   "cell_type": "markdown",
   "id": "0e9673a2-d7d5-4766-b34f-cbc9b917d297",
   "metadata": {
    "tags": []
   },
   "source": [
    "#### 1.3\n",
    "arff.loadarff 함수를 이용하여 mnist_784.arff 파일을 읽은 후에, 이를 DataFrame으로 변환하라.\n",
    "\n",
    "```\n",
    "# 파일 경로 예시\n",
    "file_path = \"mnist_784.arff\"\n",
    "\n",
    "# 파일 읽기\n",
    "data, meta = arff.loadarff(file_path)\n",
    "\n",
    "# DataFrame으로 변환\n",
    "df = pd.DataFrame(  # ← 여기에 적절한 변수 전달\n",
    "    ...\n",
    ")\n",
    "```"
   ]
  },
  {
   "cell_type": "code",
   "execution_count": null,
   "id": "6ac49603-5192-4dda-b87d-87bebc3cfbf8",
   "metadata": {
    "collapsed": true,
    "jupyter": {
     "outputs_hidden": true
    }
   },
   "outputs": [],
   "source": []
  },
  {
   "cell_type": "markdown",
   "id": "39599029-5c50-4d06-9420-88f9fa293d89",
   "metadata": {
    "tags": []
   },
   "source": [
    "#### 1.4\n",
    "이 DataFrame의 shape을 구하라.\n",
    "\n",
    "힌트: .shape 속성 사용"
   ]
  },
  {
   "cell_type": "code",
   "execution_count": null,
   "id": "441122e3-b2cc-4594-8600-a048de616816",
   "metadata": {},
   "outputs": [],
   "source": []
  },
  {
   "cell_type": "markdown",
   "id": "a5b36438-e458-41ef-bb20-b2bd2aabde84",
   "metadata": {
    "tags": []
   },
   "source": [
    "#### 1.5\n",
    "이 DataFrame의 column의 개수를 구하고, 각 column이 무엇을 의미하는지 알아보자.\n",
    "\n",
    "힌트 코드:\n",
    "```\n",
    "print(df.columns[:-1])  # 픽셀 확인\n",
    "print(len(df.columns))  # 전체 column 수 확인\n",
    "```"
   ]
  },
  {
   "cell_type": "code",
   "execution_count": null,
   "id": "d1e06f4b-3e22-49b8-9b7d-282bdfa6adfe",
   "metadata": {},
   "outputs": [],
   "source": []
  },
  {
   "cell_type": "markdown",
   "id": "95139f0c-5e7e-48df-9f46-509ee912ab0c",
   "metadata": {},
   "source": [
    "#### 의미 설명하기"
   ]
  },
  {
   "cell_type": "markdown",
   "id": "d6ce7c1f-ce8c-4f2d-9218-8452a61b8b3e",
   "metadata": {
    "tags": []
   },
   "source": [
    "#### 1.6\n",
    "이 DataFrame의 첫 번째 row를 시각화하라.\n",
    "\n",
    "힌트 코드:\n",
    "```\n",
    "first_row = df.iloc[0]\n",
    "\n",
    "# label 추출\n",
    "label = first_row[-1]\n",
    "\n",
    "# 이미지 배열 변환\n",
    "img = np.array(first_row[:-1], dtype=np.float32).reshape(28, 28)\n",
    "\n",
    "# 시각화\n",
    "plt.imshow(.......)\n",
    "plt.title(f\"Label: {label.decode()}\")\n",
    "....\n",
    "....\n",
    "```"
   ]
  },
  {
   "cell_type": "code",
   "execution_count": null,
   "id": "f34bdc98-5ffd-4193-8e93-604399f870a4",
   "metadata": {},
   "outputs": [
    {
     "name": "stderr",
     "output_type": "stream",
     "text": [
      "C:\\Users\\Public\\Documents\\ESTsoft\\CreatorTemp\\ipykernel_2504\\3620363451.py:2: FutureWarning: Series.__getitem__ treating keys as positions is deprecated. In a future version, integer keys will always be treated as labels (consistent with DataFrame behavior). To access a value by position, use `ser.iloc[pos]`\n",
      "  label = first_row[-1].decode()  # decode: byte → string\n"
     ]
    },
    {
     "data": {
      "image/png": "[encoded data removed]",
      "text/plain": [
       "<Figure size 640x480 with 1 Axes>"
      ]
     },
     "metadata": {},
     "output_type": "display_data"
    }
   ],
   "source": []
  },
  {
   "cell_type": "markdown",
   "id": "1b3c9586",
   "metadata": {},
   "source": [
    "## 문제 2: 데이터 전처리\n",
    "\n",
    "### 2.1.\n",
    "class 값의 고유값(unique values)과 그 개수를 출력하라.\n",
    "\n",
    "힌트 코드:\n",
    "```\n",
    "print(df['class'].unique())\n",
    "print(df['class'].value_counts())\n",
    "```"
   ]
  },
  {
   "cell_type": "code",
   "execution_count": null,
   "id": "1e3578ab",
   "metadata": {},
   "outputs": [],
   "source": [
    "\n"
   ]
  },
  {
   "cell_type": "markdown",
   "id": "bdecdeee",
   "metadata": {},
   "source": [
    "### 2.2\n",
    "class 열을 숫자형으로 변환하라.\n",
    "\n",
    "힌트: class는 현재 문자열(byte type)로 되어 있음. 이를 정수로 바꿔야 함.\n",
    "\n",
    "힌트 코드:\n",
    "```\n",
    "# 문자열을 숫자(int)로 변환\n",
    "df['class'] = df['class'].apply(lambda x: int(x.decode()))\n",
    "```\n"
   ]
  },
  {
   "cell_type": "code",
   "execution_count": null,
   "id": "5b88b160",
   "metadata": {},
   "outputs": [],
   "source": []
  },
  {
   "cell_type": "markdown",
   "id": "4e33baa4",
   "metadata": {},
   "source": [
    "### 2.3 데이터와 레이블을 각각 X, y로 나누어라.\n",
    "\n",
    "힌트 코드:\n",
    "```\n",
    "X = df.iloc[:, :-1].values  # 픽셀 값\n",
    "y = df.iloc[:, -1].values   # class 레이블\n",
    "\n",
    "```"
   ]
  },
  {
   "cell_type": "code",
   "execution_count": null,
   "id": "c4286a66",
   "metadata": {},
   "outputs": [],
   "source": []
  },
  {
   "cell_type": "markdown",
   "id": "811601b0",
   "metadata": {},
   "source": [
    "### 2.4\n",
    "문제: X의 값을 0~1 범위로 정규화하라.\n",
    "\n",
    "힌트 코드:\n",
    "```\n",
    "X = X / 255.0\n",
    "```"
   ]
  },
  {
   "cell_type": "code",
   "execution_count": null,
   "id": "f3dc93c3",
   "metadata": {},
   "outputs": [],
   "source": []
  },
  {
   "cell_type": "markdown",
   "id": "875ca4ba",
   "metadata": {},
   "source": [
    "## 문제 3. KNN 분류기 만들기\n",
    "\n",
    "### 3.1.데이터를 학습용과 테스트용으로 나누어라. (학습: 80%, 테스트: 20%)\n",
    "\n",
    "힌트 코드:\n",
    "```\n",
    "from sklearn.model_selection import train_test_split\n",
    "\n",
    "X_train, X_test, y_train, y_test = train_test_split(\n",
    "    X, y, test_size=0.2, random_state=42\n",
    ")\n",
    "\n",
    "```"
   ]
  },
  {
   "cell_type": "code",
   "execution_count": null,
   "id": "84ee7e26",
   "metadata": {},
   "outputs": [],
   "source": []
  },
  {
   "cell_type": "markdown",
   "id": "6ae69229",
   "metadata": {},
   "source": [
    "### 3.2\n",
    "\n",
    "문제: KNN 분류기를 만들고 학습하라. (k=3)\n",
    "\n",
    "힌트 코드:\n",
    "```\n",
    "from sklearn.neighbors import KNeighborsClassifier\n",
    "\n",
    "knn = KNeighborsClassifier(n_neighbors=3)\n",
    "knn.fit(X_train, y_train)\n",
    "\n",
    "```"
   ]
  },
  {
   "cell_type": "code",
   "execution_count": null,
   "id": "e165f87e",
   "metadata": {},
   "outputs": [],
   "source": []
  },
  {
   "cell_type": "markdown",
   "id": "de13f5c3",
   "metadata": {},
   "source": [
    "### 3.3\n",
    "문제: 테스트 데이터에 대해 정확도를 출력하라.\n",
    "\n",
    "힌트 코드:\n",
    "```\n",
    "accuracy = knn.score(X_test, y_test)\n",
    "print(\"Test Accuracy:\", accuracy)\n",
    "```"
   ]
  },
  {
   "cell_type": "code",
   "execution_count": null,
   "id": "6bcd2069",
   "metadata": {},
   "outputs": [],
   "source": []
  },
  {
   "cell_type": "markdown",
   "id": "e068dad5",
   "metadata": {},
   "source": [
    "### 3.4 \n",
    "Confusion matrix를 구하고 heatmap으로 시각화하라.\n",
    "\n",
    "힌트 코드:\n",
    "```\n",
    "from sklearn.metrics import confusion_matrix\n",
    "import seaborn as sns\n",
    "\n",
    "y_pred = knn.predict(X_test)\n",
    "cm = confusion_matrix(y_test, y_pred)\n",
    "\n",
    "plt.figure(figsize=(8, 6))\n",
    "sns.heatmap(cm, annot=True, fmt='d', cmap='Blues')\n",
    "plt.xlabel(\"Predicted\")\n",
    "plt.ylabel(\"True\")\n",
    "plt.title(\"Confusion Matrix\")\n",
    "plt.show()\n",
    "\n",
    "```"
   ]
  },
  {
   "cell_type": "code",
   "execution_count": null,
   "id": "b2764b00",
   "metadata": {},
   "outputs": [],
   "source": []
  },
  {
   "cell_type": "markdown",
   "id": "6574ff56",
   "metadata": {},
   "source": [
    "## 문제 4. KNN 성능 분석\n",
    "\n",
    "### 4.1\n",
    "k 값을 1~15까지 변경하면서 정확도를 구하고 그래프로 표시하라.\n",
    "\n",
    "힌트 코드:\n",
    "```\n",
    "accuracy_list = []\n",
    "\n",
    "for k in range(1, 16):\n",
    "    knn = KNeighborsClassifier(n_neighbors=k)\n",
    "    knn.fit(X_train, y_train)\n",
    "    acc = knn.score(X_test, y_test)\n",
    "    accuracy_list.append(acc)\n",
    "\n",
    "plt.plot(range(1, 16), accuracy_list, marker='o')\n",
    "plt.xlabel(\"k\")\n",
    "plt.ylabel(\"Accuracy\")\n",
    "plt.title(\"KNN Accuracy vs k\")\n",
    "plt.grid(True)\n",
    "plt.show()\n",
    "\n",
    "```"
   ]
  },
  {
   "cell_type": "code",
   "execution_count": null,
   "id": "fa930e7d",
   "metadata": {},
   "outputs": [],
   "source": []
  },
  {
   "cell_type": "code",
   "execution_count": null,
   "id": "f44f88ea",
   "metadata": {},
   "outputs": [],
   "source": []
  },
  {
   "cell_type": "markdown",
   "id": "ef1384da",
   "metadata": {},
   "source": [
    "### 4.2\n",
    "가장 성능이 좋았던 k 값을 선택하고 이유를 적어보자.\n",
    "\n",
    "힌트: 위 그래프에서 최고점을 가진 k를 찾고, 과적합/과소적합과 관련지어 서술\n"
   ]
  },
  {
   "cell_type": "code",
   "execution_count": null,
   "id": "8063f33d-d32b-4815-a6d2-5bdbd0588de4",
   "metadata": {},
   "outputs": [],
   "source": []
  },
  {
   "cell_type": "code",
   "execution_count": null,
   "id": "cf6c55e8-95a2-4eb3-8f46-f26449d70e6a",
   "metadata": {},
   "outputs": [],
   "source": []
  }
 ],
 "metadata": {
  "kernelspec": {
   "display_name": "base",
   "language": "python",
   "name": "python3"
  },
  "language_info": {
   "codemirror_mode": {
    "name": "ipython",
    "version": 3
   },
   "file_extension": ".py",
   "mimetype": "text/x-python",
   "name": "python",
   "nbconvert_exporter": "python",
   "pygments_lexer": "ipython3",
   "version": "3.12.7"
  },
  "latex_envs": {
   "LaTeX_envs_menu_present": true,
   "autoclose": false,
   "autocomplete": true,
   "bibliofile": "biblio.bib",
   "cite_by": "apalike",
   "current_citInitial": 1,
   "eqLabelWithNumbers": true,
   "eqNumInitial": 1,
   "hotkeys": {
    "equation": "Ctrl-E",
    "itemize": "Ctrl-I"
   },
   "labels_anchors": false,
   "latex_user_defs": false,
   "report_style_numbering": false,
   "user_envs_cfg": false
  }
 },
 "nbformat": 4,
 "nbformat_minor": 5
}
