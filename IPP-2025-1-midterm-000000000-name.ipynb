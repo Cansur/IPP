{
 "cells": [
  {
   "cell_type": "markdown",
   "id": "797d2e43-d1aa-4336-a7b7-c2247577d58a",
   "metadata": {},
   "source": [
    "<h1 align='center'> 영상처리 프로그래밍 중간고사</h1>\n",
    "\n",
    "<h6 align='right'> 2025. 4. 24. </h6>"
   ]
  },
  {
   "cell_type": "markdown",
   "id": "db5adea0",
   "metadata": {},
   "source": [
    "<div class=\"alert alert-block alert-info\">\n",
    "    \n",
    "- 파일 이름에서 00000000을 자신의 학번으로, name을 자신의 이름으로 수정하세요.\n",
    "\n",
    "- 다음 줄에 자신의 이름, 학번, 학과(전공)을 적으세요.\n",
    "\n",
    "* 이름:  이선재 &nbsp;&nbsp;          학번: 20227123   &nbsp;&nbsp;         학과(전공): 빅데이터\n",
    "    \n",
    "</div>"
   ]
  },
  {
   "cell_type": "markdown",
   "id": "7475ab0a-2363-4ef9-99e0-e8e0d12f16e5",
   "metadata": {},
   "source": [
    "## 아래에 있는 두 문제 중에 하나를 풀어라. 단, 2번을 푸는 학생에게는 보너스 점수 30/100 추가함."
   ]
  },
  {
   "cell_type": "markdown",
   "id": "0b631885-8fff-4cc6-a86e-ad341402544b",
   "metadata": {},
   "source": [
    "## 문제 1. 다음 프로그램애 여러 도형을 추가하라.\n",
    "\n",
    "도형은 'd', 'e', 's', 'r' 등 다양하게 정의한 것을 여기에 표시하라.\n"
   ]
  },
  {
   "cell_type": "code",
   "execution_count": null,
   "id": "acfdf8a2-b79c-487c-8e24-1930e1d19e2d",
   "metadata": {},
   "outputs": [],
   "source": []
  },
  {
   "cell_type": "code",
   "execution_count": 1,
   "id": "c471c12f-3728-439c-93d9-9af302efc5cd",
   "metadata": {},
   "outputs": [],
   "source": [
    "import cv2\n",
    "import numpy as np\n",
    "import math\n",
    "import image_tools\n",
    "\n",
    "class ImageDrawer:\n",
    "    def __init__(self, img):\n",
    "\n",
    "    def draw_rectangle(self, event, x, y, flags, param):\n",
    "\n",
    "\n",
    "    def get_star_points(self, center_x, center_y, width, height):\n",
    "\n",
    "\n",
    "    def apply_bitwise_not(self):\n",
    "\n",
    "\n",
    "    def update_shape(self):\n",
    "\n",
    "IMAGE_FILE = 'bird.jpg'\n",
    "WINDOW_MAIN = 'Image'\n",
    "\n",
    "try:\n",
    "    img = image_tools.load_image(IMAGE_FILE, 'BGR')\n"
   ]
  },
  {
   "cell_type": "code",
   "execution_count": null,
   "id": "97ea9e60-1994-4fb2-8892-9c1bc4422c03",
   "metadata": {},
   "outputs": [],
   "source": []
  },
  {
   "cell_type": "markdown",
   "id": "4c38ec26-829a-482a-b414-ea7665e463fa",
   "metadata": {},
   "source": [
    "# 문제 2. 여러 메뉴를 추가하라"
   ]
  },
  {
   "cell_type": "code",
   "execution_count": null,
   "id": "9fe7cde5-8e41-426c-a4e3-49fa211a8646",
   "metadata": {},
   "outputs": [
    {
     "ename": "IndentationError",
     "evalue": "expected an indented block after function definition on line 54 (3671339311.py, line 56)",
     "output_type": "error",
     "traceback": [
      "\u001b[1;36m  Cell \u001b[1;32mIn[2], line 56\u001b[1;36m\u001b[0m\n\u001b[1;33m    def apply_log_transform(self):\u001b[0m\n\u001b[1;37m    ^\u001b[0m\n\u001b[1;31mIndentationError\u001b[0m\u001b[1;31m:\u001b[0m expected an indented block after function definition on line 54\n"
     ]
    }
   ],
   "source": [
    "import sys\n",
    "from PyQt5.QtWidgets import (\n",
    "    QApplication, \n",
    "    QMainWindow, \n",
    "    QLabel,\n",
    "    QMenuBar, QAction,\n",
    "    QFileDialog, QHBoxLayout, QWidget\n",
    ")\n",
    "from PyQt5.QtCore import Qt \n",
    "from PyQt5.QtGui import QPixmap, QImage\n",
    "import image_tools  # 사용자 정의 모듈 (예: OpenCV 기반)\n",
    "import numpy as np\n",
    "\n",
    "def log_transformation(image, f_max=255):\n",
    "    C = 255 / np.log(1 + f_max)\n",
    "    return (C * np.log(1. + image)).round().clip(0, 255).astype(np.uint8)\n",
    "\n",
    "class BasicViewer(QMainWindow):\n",
    "    def __init__(self):\n",
    "        super().__init__()\n",
    "        self.setWindowTitle()\n",
    "        self.setGeometry()\n",
    "\n",
    "        # QLabel 두 개: 원본 / 변환\n",
    "        self.original_label = QLabel(\"원본 이미지를 열어보세요\")\n",
    "        self.original_label.setAlignment(Qt.AlignCenter)\n",
    "\n",
    "        self.transformed_label = QLabel(\"변환된 이미지가 여기에 표시됩니다\")\n",
    "        self.transformed_label.setAlignment(Qt.AlignCenter)\n",
    "\n",
    "        # 수평 레이아웃\n",
    "        self.central_widget = QWidget()\n",
    "        self.hbox = QHBoxLayout(self.central_widget)\n",
    "        self.hbox.addWidget(self.original_label)\n",
    "        self.hbox.addWidget(self.transformed_label)\n",
    "\n",
    "        self.setCentralWidget(self.central_widget)\n",
    "\n",
    "        self.current_image = None  # 원본 이미지 저장용 (NumPy)\n",
    "\n",
    "        self.create_menu()\n",
    "\n",
    "    def create_menu(self):\n",
    "        menubar = self.menuBar()\n",
    "\n",
    "        # 파일 메뉴\n",
    "        file_menu = menubar.addMenu(\"파일\")\n",
    "        # 열기, 종류 부메뉴 추가\n",
    "\n",
    "        # 변환 메뉴\n",
    "        transform_menu = menubar.addMenu(\"변환\")\n",
    "        # 다양한 변화 추가\n",
    "    \n",
    "    def open_image_dialog(self):\n",
    "\n",
    "    def apply_log_transform(self):\n",
    "\n",
    "    def numpy_to_qpixmap(self, image):\n",
    "        h, w, ch = image.shape\n",
    "        bytes_per_line = ch * w\n",
    "        qimage = QImage(image.data, w, h, bytes_per_line, QImage.Format_RGB888)\n",
    "        return QPixmap.fromImage(qimage)\n",
    "\n",
    "app = QApplication.instance()\n",
    "if app is None:\n",
    "    app = QApplication([])\n",
    "\n",
    "viewer = BasicViewer()\n",
    "viewer.show()\n",
    "\n",
    "try:\n",
    "    sys.exit(app.exec_())\n",
    "except SystemExit:\n",
    "    pass\n"
   ]
  },
  {
   "cell_type": "code",
   "execution_count": null,
   "id": "0ed2c512-cce4-4615-80b9-3255351da404",
   "metadata": {},
   "outputs": [],
   "source": []
  }
 ],
 "metadata": {
  "kernelspec": {
   "display_name": "base",
   "language": "python",
   "name": "python3"
  },
  "language_info": {
   "codemirror_mode": {
    "name": "ipython",
    "version": 3
   },
   "file_extension": ".py",
   "mimetype": "text/x-python",
   "name": "python",
   "nbconvert_exporter": "python",
   "pygments_lexer": "ipython3",
   "version": "3.12.7"
  },
  "latex_envs": {
   "LaTeX_envs_menu_present": true,
   "autoclose": false,
   "autocomplete": true,
   "bibliofile": "biblio.bib",
   "cite_by": "apalike",
   "current_citInitial": 1,
   "eqLabelWithNumbers": true,
   "eqNumInitial": 1,
   "hotkeys": {
    "equation": "Ctrl-E",
    "itemize": "Ctrl-I"
   },
   "labels_anchors": false,
   "latex_user_defs": false,
   "report_style_numbering": false,
   "user_envs_cfg": false
  }
 },
 "nbformat": 4,
 "nbformat_minor": 5
}
