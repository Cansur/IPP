{
 "cells": [
  {
   "cell_type": "markdown",
   "id": "797d2e43-d1aa-4336-a7b7-c2247577d58a",
   "metadata": {},
   "source": [
    "<h1 align='center'> 영상처리 프로그래밍 실습 7</h1>\n",
    "\n",
    "<h6 align='right'> 2025. 5. 8. </h6>"
   ]
  },
  {
   "cell_type": "markdown",
   "id": "db5adea0",
   "metadata": {},
   "source": [
    "<div class=\"alert alert-block alert-info\">\n",
    "    \n",
    "- 파일 이름에서 00000000을 자신의 학번으로, name을 자신의 이름으로 수정하세요.\n",
    "\n",
    "- 다음 줄에 자신의 이름, 학번, 학과(전공)을 적으세요.\n",
    "\n",
    "* 이름:   &nbsp;&nbsp;          학번:    &nbsp;&nbsp;         학과(전공):\n",
    "    \n",
    "</div>\n",
    "\n",
    "- JupyterLab 문서의 최신 버전은 [JupyterLab Documentation](https://jupyterlab.readthedocs.io/en/stable/index.html#/)을  참고하라\n",
    "\n",
    "- Markdown은 [Markdown Guide](https://www.markdownguide.org/)를 참고하라.\n",
    "- [Markdown Cheat Sheet](https://www.markdownguide.org/cheat-sheet/)\n",
    "\n",
    "* 제출 마감: 5월 14일 (수) 오후 10:00까지 최종본을 SmartLEAD제출\n"
   ]
  },
  {
   "cell_type": "code",
   "execution_count": 1,
   "id": "34e117ec",
   "metadata": {},
   "outputs": [
    {
     "name": "stdout",
     "output_type": "stream",
     "text": [
      "OpenCV version 4.10.0\n",
      "NumPy version 1.26.4\n"
     ]
    }
   ],
   "source": [
    "import cv2\n",
    "import matplotlib.pyplot as plt\n",
    "\n",
    "import numpy as np\n",
    "print(\"OpenCV version\", cv2.__version__)\n",
    "print(\"NumPy version\", np.__version__)"
   ]
  },
  {
   "cell_type": "markdown",
   "id": "d51c2203-09e7-4c94-98ac-05c999f2fe89",
   "metadata": {},
   "source": [
    "## 문제 1.\n",
    "\n",
    "지난 주에 작성했던 PyQt5를 이용한 GUI에 몇 가지 기능을 추가했던 프로그램을 실행한 후에 윈도우의 크기를 조정해 보자. 윈도우의 크기를 조정한 후에 영상의 크기도 윈도우의 크기에 비례해서 조정하려면 어떤 기능을 추가해야 하는지 조사해서 다시 작성하라."
   ]
  },
  {
   "cell_type": "code",
   "execution_count": 2,
   "id": "8098b8d6-070a-4010-9a20-80c1f7942f14",
   "metadata": {},
   "outputs": [],
   "source": [
    "import sys\n",
    "from PyQt5.QtWidgets import (\n",
    "    QApplication, \n",
    "    QMainWindow, \n",
    "    QLabel,\n",
    "    QMenuBar, QAction,\n",
    "    QFileDialog, QHBoxLayout, QWidget\n",
    ")\n",
    "from PyQt5.QtCore import Qt \n",
    "from PyQt5.QtGui import QPixmap, QImage\n",
    "import image_tools  # 사용자 정의 모듈 \n",
    "import numpy as np\n",
    "\n",
    "class BasicViewer(QMainWindow):\n",
    "    def __init__(self):\n",
    "        super().__init__()\n",
    "        self.setWindowTitle(\"단순 이미지 뷰어\")\n",
    "        self.setGeometry(100, 100, 1000, 600)\n",
    "\n",
    "        # QLabel 두 개: 원본 / 변환\n",
    "        self.original_label = QLabel(\"원본 이미지를 열어보세요\")\n",
    "        self.original_label.setAlignment(Qt.AlignCenter)\n",
    "\n",
    "        self.processed_label = QLabel(\"변환된 이미지가 여기에 표시됩니다\")\n",
    "        self.processed_label.setAlignment(Qt.AlignCenter)\n",
    "\n",
    "        # 수평 레이아웃\n",
    "        self.central_widget = QWidget()\n",
    "        self.hbox = QHBoxLayout(self.central_widget)\n",
    "        self.hbox.addWidget(self.original_label)\n",
    "        self.hbox.addWidget(self.processed_label)\n",
    "\n",
    "        self.setCentralWidget(self.central_widget)\n",
    "\n",
    "        self.current_image = None  # 원본 이미지 저장용 (NumPy)\n",
    "\n",
    "        self.create_menu()\n",
    "\n",
    "    def create_menu(self):\n",
    "        menubar = self.menuBar()\n",
    "\n",
    "        # 파일 메뉴\n",
    "        file_menu = menubar.addMenu(\"파일\")\n",
    "        open_action = QAction(\"열기\", self)\n",
    "        open_action.triggered.connect(self.open_image_dialog)\n",
    "        file_menu.addAction(open_action)\n",
    "\n",
    "        exit_action = QAction(\"종료\", self)\n",
    "        exit_action.triggered.connect(self.close)\n",
    "        file_menu.addAction(exit_action)\n",
    "\n",
    "        # 변환 메뉴\n",
    "        transform_menu = menubar.addMenu(\"변환\")\n",
    "        log_action = QAction(\"로그 변환\", self)\n",
    "        log_action.triggered.connect(self.apply_log_transform)\n",
    "        transform_menu.addAction(log_action)\n",
    "\n",
    "    def open_image_dialog(self):\n",
    "        filename, _ = QFileDialog.getOpenFileName(\n",
    "            self, \"이미지 열기\", \"\", \"Image Files (*.png *.jpg *.bmp *.jpeg *.tif *.tiff)\"\n",
    "        )\n",
    "        if filename:\n",
    "            image = image_tools.load_image(filename)  # RGB 형태로 반환\n",
    "            self.current_image = image\n",
    "            pixmap = self.numpy_to_qpixmap(image)\n",
    "            self.original_label.setPixmap(pixmap.scaled(\n",
    "                self.original_label.size(), Qt.KeepAspectRatio, Qt.SmoothTransformation\n",
    "            ))\n",
    "            self.processed_label.clear()\n",
    "\n",
    "    def apply_log_transform(self):\n",
    "        def log_transformation(image, f_max=255):\n",
    "            C = 255 / np.log(1 + f_max)\n",
    "            return (C * np.log(1. + image)).round().clip(0, 255).astype(np.uint8)\n",
    "\n",
    "        if self.current_image is None:\n",
    "            return\n",
    "\n",
    "        transformed = log_transformation(self.current_image, f_max=self.current_image.max())\n",
    "        pixmap = self.numpy_to_qpixmap(transformed)\n",
    "        self.processed_label.setPixmap(pixmap.scaled(\n",
    "            self.processed_label.size(), Qt.KeepAspectRatio, Qt.SmoothTransformation\n",
    "        ))\n",
    "\n",
    "    def numpy_to_qpixmap(self, image):\n",
    "        h, w, ch = image.shape\n",
    "        bytes_per_line = ch * w\n",
    "        qimage = QImage(image.data, w, h, bytes_per_line, QImage.Format_RGB888)\n",
    "        return QPixmap.fromImage(qimage)\n",
    "\n",
    "app = QApplication.instance()\n",
    "if app is None:\n",
    "    app = QApplication([])\n",
    "\n",
    "viewer = BasicViewer()\n",
    "viewer.show()\n",
    "\n",
    "try:\n",
    "    sys.exit(app.exec_())\n",
    "except SystemExit:\n",
    "    pass\n"
   ]
  },
  {
   "cell_type": "markdown",
   "id": "94fa5fc2-a3e4-4033-99eb-4d9f5a7ee85e",
   "metadata": {},
   "source": [
    "#### 수정 후 프로그램\n",
    "- 원 영상과 처리된 영상을 표시하는 두 개의 QLabel의 setSizePolicy 함수에 QSizePolicy.Ignored 인자를 전달\n",
    "- resizeEvent 처리 함수를 추가하여 윈도우 크기가 변할 때마다 다시 영상의 크기를 조정하여 표시"
   ]
  },
  {
   "cell_type": "code",
   "execution_count": null,
   "id": "7ba66068-b045-4b50-b7c8-1e7fd8b32e28",
   "metadata": {},
   "outputs": [],
   "source": []
  },
  {
   "cell_type": "markdown",
   "id": "1f702ab1-eee0-488a-bd3f-f4c11f2fe1e8",
   "metadata": {},
   "source": [
    "### 문제 2. \n",
    "\n",
    "다음을 만족하는 함수 moving_average_filtering(filename)를 완성하라.\n",
    "\n",
    "- filename으로 전달받은 파일이 존재하는지 조사해서 존재하지 않으면 오류 메시지를 콘솔에 출력하고 return 한다.\n",
    "- 파일이 존재하면\n",
    "  - 파일을 읽고, 원본 영상과 이동 평균 필터링된 영상을 나란히 화면에 표시한다.\n",
    "  - 이동 평균 필터의 커널의 크기를 지정할 수 있는 trackBar interface를 제공한다. 단, trackBar로 지정하는 값의 범위는 1부터 51까지로 하되, 짝수일 경우 그보다 1 작은 홀수로 커널의 크기를 지정한다.\n",
    "  - 지정된 커널의 크기를 이용해서 원 영상에 이동 평균 필터링이 적용된 영상을 구한다."
   ]
  },
  {
   "cell_type": "markdown",
   "id": "9c2bdc13-f049-4709-b056-b50577a35bf7",
   "metadata": {},
   "source": [
    "### 2.1 OpenCV GUI 기반"
   ]
  },
  {
   "cell_type": "code",
   "execution_count": null,
   "id": "5369cd67-5bc4-4c86-bfa1-c04b7ed7b3a9",
   "metadata": {},
   "outputs": [],
   "source": []
  },
  {
   "cell_type": "markdown",
   "id": "f986c816-1b09-424a-888b-d55e51204651",
   "metadata": {},
   "source": [
    "### 2.2 PyQt 기반"
   ]
  },
  {
   "cell_type": "code",
   "execution_count": null,
   "id": "2c7fdd13-209d-46b0-9937-c7de6bfb1e1e",
   "metadata": {},
   "outputs": [],
   "source": []
  },
  {
   "cell_type": "markdown",
   "id": "bbbd5f2b-5a71-46f1-ad1f-95a991184a75",
   "metadata": {},
   "source": [
    "## 문제 3.\n",
    "강의에서 설명한 여러 가지 필터를 필터 메뉴에 추가하라."
   ]
  },
  {
   "cell_type": "code",
   "execution_count": null,
   "id": "6af0dd26-ed96-4369-aace-1ef1bd4afd8d",
   "metadata": {},
   "outputs": [],
   "source": []
  },
  {
   "cell_type": "markdown",
   "id": "2d681e41-9b02-4cca-8690-628a95b69552",
   "metadata": {},
   "source": [
    "### 문제 4.\n",
    "\n",
    "다음 URL에서 'Lincoln.jpg',  'Lincoln_wave_1.png', 'Lincoln_wave_2.png' 파일을 로컬 드라이브에 다운로드하라.\n",
    "\n",
    "https://drive.google.com/drive/u/0/folders/1zbjtkf9nHy9VniuLI4wHilbrN_JBvhYi\n",
    "\n",
    "로컬 드라이브에서 'Lincoln.jpg' 파일을 읽고, 'Lincoln_wave_1.png' 또는 'Lincoln_wave_2.png'와 같은 그림을 화면에 표시하는 프로그램을 작성하라.\n",
    "\n",
    "참고 사이트: https://mymodernmet.com/tyler-foust-one-line-drawing-portraits/"
   ]
  },
  {
   "cell_type": "code",
   "execution_count": null,
   "id": "e39ae025-e4f5-4988-ab17-5f0b3a879e88",
   "metadata": {},
   "outputs": [],
   "source": []
  }
 ],
 "metadata": {
  "kernelspec": {
   "display_name": "Python 3 (ipykernel)",
   "language": "python",
   "name": "python3"
  },
  "language_info": {
   "codemirror_mode": {
    "name": "ipython",
    "version": 3
   },
   "file_extension": ".py",
   "mimetype": "text/x-python",
   "name": "python",
   "nbconvert_exporter": "python",
   "pygments_lexer": "ipython3",
   "version": "3.12.7"
  },
  "latex_envs": {
   "LaTeX_envs_menu_present": true,
   "autoclose": false,
   "autocomplete": true,
   "bibliofile": "biblio.bib",
   "cite_by": "apalike",
   "current_citInitial": 1,
   "eqLabelWithNumbers": true,
   "eqNumInitial": 1,
   "hotkeys": {
    "equation": "Ctrl-E",
    "itemize": "Ctrl-I"
   },
   "labels_anchors": false,
   "latex_user_defs": false,
   "report_style_numbering": false,
   "user_envs_cfg": false
  }
 },
 "nbformat": 4,
 "nbformat_minor": 5
}
