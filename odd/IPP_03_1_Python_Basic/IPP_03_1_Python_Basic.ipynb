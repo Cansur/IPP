{
 "cells": [
  {
   "cell_type": "code",
   "execution_count": null,
   "metadata": {
    "slideshow": {
     "slide_type": "skip"
    }
   },
   "outputs": [],
   "source": [
    "from pspmisc import *"
   ]
  },
  {
   "cell_type": "markdown",
   "metadata": {
    "slideshow": {
     "slide_type": "slide"
    }
   },
   "source": [
    "#  <center> 영상처리 프로그래밍을 위한 </center>\n",
    "#  <center> Python 문법 기초 (1)</center>\n",
    "\n",
    "### <center> 2025년 1학기 </center>\n",
    "### <center> 한림대학교 정보과학대학 소프트웨어학부</center>\n",
    "### <center> 박섭형 </center>"
   ]
  },
  {
   "cell_type": "code",
   "execution_count": null,
   "metadata": {
    "slideshow": {
     "slide_type": "slide"
    }
   },
   "outputs": [],
   "source": [
    "import sys\n",
    "sys.version "
   ]
  },
  {
   "cell_type": "markdown",
   "metadata": {
    "slideshow": {
     "slide_type": "slide"
    }
   },
   "source": [
    "## Python 자료 구조\n",
    "\n",
    "### 리터럴(literal), 상수(constant), 변수(variable)\n",
    "\n",
    "- 리터럴: 소스 코드에서 고정된 값을 표현하는 표기법\n",
    " * 숫자 리터럴\n",
    "   - 정수\n",
    "     * 10진수: 3, -2\n",
    "     * 2진수 (binary number): 0b101, -0b101\n",
    "     * 8진수 (octal number): 0o37\n",
    "     * 16진수 (hexadecimal): 0x3a, -0x3a, 0x1B, -0x1C\n",
    "   - 실수: 1.2, -3.45, 1.4e3, 1.5e-3\n",
    "   - 복소수: 1 + 2j, -3 +1j, 3 + 4J, 2 - 5J\n",
    " * 문자열 리터럴\n",
    "   - \"abc\", 'abc', \"문자열\", 'A', \"'spring'\", 'He said \"Hello\".'\n",
    " * 논리값 리터럴\n",
    "   * True, False\n",
    " * 특수 리터럴\n",
    "   - None\n",
    " * 컬렉션 리터럴\n",
    "   - 리스트: [1, 3, 1.4, \"리스트\"], [1, 2, [3, 4]], [1, 2, (3, 4)]\n",
    "   - 튜플:  (1, 3, 1.4, (1, 3))\n",
    "   - 집합: {1, 3, 5}, {1, 3, \"ask\", (1,3)}\n",
    "   - 사전: {'name': \"홍길동\", 'age': 23}\n"
   ]
  },
  {
   "cell_type": "code",
   "execution_count": null,
   "metadata": {
    "slideshow": {
     "slide_type": "-"
    }
   },
   "outputs": [],
   "source": [
    "0b101"
   ]
  },
  {
   "cell_type": "code",
   "execution_count": null,
   "metadata": {
    "slideshow": {
     "slide_type": "-"
    }
   },
   "outputs": [],
   "source": [
    "-0b101"
   ]
  },
  {
   "cell_type": "code",
   "execution_count": null,
   "metadata": {
    "slideshow": {
     "slide_type": "-"
    }
   },
   "outputs": [],
   "source": [
    "0o37"
   ]
  },
  {
   "cell_type": "code",
   "execution_count": null,
   "metadata": {
    "slideshow": {
     "slide_type": "-"
    }
   },
   "outputs": [],
   "source": [
    "0x3a"
   ]
  },
  {
   "cell_type": "code",
   "execution_count": null,
   "metadata": {
    "slideshow": {
     "slide_type": "-"
    }
   },
   "outputs": [],
   "source": [
    "0x3A"
   ]
  },
  {
   "cell_type": "code",
   "execution_count": null,
   "metadata": {
    "slideshow": {
     "slide_type": "-"
    }
   },
   "outputs": [],
   "source": [
    "1.2e2, -1.2e-2, 3.5e4"
   ]
  },
  {
   "cell_type": "markdown",
   "metadata": {
    "slideshow": {
     "slide_type": "slide"
    }
   },
   "source": [
    "### 변수\n",
    "- 메모리에 저장되어 있는 리터럴로 표현된 값(Python에서는 객체)를 잠조하는 이름으로 사용자가 정한다\n",
    "+ 변수를 사용할 때 변수형을 사전에 선언하지 않는다.\n",
    "- 변수가 참조하는 값들은 프로그램 내에서 여러 방법으로 변경된다\n",
    "- Python 3의 변수의 이름(식별자)는 Unicode를 기반으로 한다.\n",
    "- ASCII 코드만을 사용하는 경우 식별자 명명 규칙은 Python 2의 식별자 명명 규칙과 같다.\n",
    "\n",
    "### Python 2 (ASCII 기반) 식별자 명명 규칙\n",
    "\n",
    "- 식별자는 A부터 Z 또는 a부터 z까지의 문자, 또는 밑줄 문자 (\\_) 다음에 0개 이상의 문자나 밑줄문자 혹은 숫자를 결합하여 만들 수 있다.\n",
    "- !, @, \\#, \\$, \\%, \\& 등과 같은 특수 문자를 사용할 수 없다.\n",
    "- 식별자의 대소문자를 구분한다.\n",
    "- 식별자의 이름으로 키워드를 사용할 수 없다.\n",
    "- 식별자의 길이에 제한은 없으나, PEP 8은 Python 프로그램에서 한 줄의 길이를 최대 79 자로 제한할 것을 권장한다.\n",
    " "
   ]
  },
  {
   "cell_type": "code",
   "execution_count": null,
   "metadata": {
    "slideshow": {
     "slide_type": "-"
    }
   },
   "outputs": [],
   "source": [
    "import keyword\n",
    "keyword.kwlist"
   ]
  },
  {
   "cell_type": "code",
   "execution_count": null,
   "metadata": {
    "slideshow": {
     "slide_type": "-"
    }
   },
   "outputs": [],
   "source": [
    "a = 3\n",
    "weight = 3.5\n",
    "height = 1.5e3\n",
    "A3_ = 1 + 1J\n",
    "name = '홍길동'\n",
    "print(a, type(a))\n",
    "print(weight, type(weight))\n",
    "print(height, type(height))\n",
    "print(A3_, type(A3_))\n",
    "print(name, type(name))"
   ]
  },
  {
   "cell_type": "code",
   "execution_count": null,
   "metadata": {
    "scrolled": true,
    "slideshow": {
     "slide_type": "-"
    }
   },
   "outputs": [],
   "source": [
    "print(a, type(a))\n",
    "print(weight, type(weight))\n",
    "a = a + weight\n",
    "print(a, type(a))"
   ]
  },
  {
   "cell_type": "code",
   "execution_count": null,
   "metadata": {
    "slideshow": {
     "slide_type": "-"
    }
   },
   "outputs": [],
   "source": [
    "print(a, type(a))\n",
    "a = 'spring'\n",
    "print(a, type(a))"
   ]
  },
  {
   "cell_type": "markdown",
   "metadata": {
    "slideshow": {
     "slide_type": "slide"
    }
   },
   "source": [
    "### 상수(constant)\n",
    "\n",
    "* 항상 같은 값이 저장된 곳\n",
    "* Python에는 원칙적으로 상수를 정의하는 기능이 없음\n",
    "* 통상적으로 대문자로 만든 변수를 상수로 사용\n",
    "  "
   ]
  },
  {
   "cell_type": "code",
   "execution_count": null,
   "metadata": {
    "slideshow": {
     "slide_type": "-"
    }
   },
   "outputs": [],
   "source": [
    "PI = 3.141592\n",
    "PI = 1"
   ]
  },
  {
   "cell_type": "markdown",
   "metadata": {
    "slideshow": {
     "slide_type": "slide"
    }
   },
   "source": [
    "### Walrus 연산자 (:=)\n",
    "- Python 3.8에서 추가\n",
    " - x := 3\n",
    "     - x에 3을 할당\n",
    "     - 3을 반환\n",
    " - x = 3\n",
    "     - x에 3을 할당"
   ]
  },
  {
   "cell_type": "markdown",
   "metadata": {
    "slideshow": {
     "slide_type": "-"
    }
   },
   "source": [
    "<img align=\"center\" width=\"200\" height=\"100\" src='walrus_s2.png'>"
   ]
  },
  {
   "cell_type": "code",
   "execution_count": null,
   "metadata": {
    "slideshow": {
     "slide_type": "-"
    }
   },
   "outputs": [],
   "source": [
    "x = 3"
   ]
  },
  {
   "cell_type": "code",
   "execution_count": null,
   "metadata": {
    "slideshow": {
     "slide_type": "-"
    }
   },
   "outputs": [],
   "source": [
    "(x := 3)"
   ]
  },
  {
   "cell_type": "code",
   "execution_count": null,
   "metadata": {
    "slideshow": {
     "slide_type": "slide"
    }
   },
   "outputs": [],
   "source": [
    "total = 0\n",
    "print(\"이 프로그램은 숫자를 입력받아 더한 결과를 출력한다.\")\n",
    "while True:\n",
    "    number = input(\"Enter a number to add, or 'q' to stop: \")\n",
    "    if number == \"q\":\n",
    "        break\n",
    "    total = total + eval(number)\n",
    "print(\"Sum = \", total)   "
   ]
  },
  {
   "cell_type": "code",
   "execution_count": null,
   "metadata": {
    "scrolled": true,
    "slideshow": {
     "slide_type": "-"
    }
   },
   "outputs": [],
   "source": [
    "total = 0\n",
    "print(\"이 프로그램은 숫자를 입력받아 더한 결과를 출력한다.\")\n",
    "while (number := input(\"Enter a number to add, or 'q' to stop: \")) != 'q':\n",
    "    total = total + eval(number)\n",
    "print(\"Sum = \", total)"
   ]
  },
  {
   "cell_type": "code",
   "execution_count": null,
   "metadata": {
    "slideshow": {
     "slide_type": "slide"
    }
   },
   "outputs": [],
   "source": [
    "a, b = 208, 80\n",
    "r = a % b\n",
    "while r:\n",
    "    a, b = b, r\n",
    "    r = a % b\n",
    "print(b)"
   ]
  },
  {
   "cell_type": "code",
   "execution_count": null,
   "metadata": {
    "slideshow": {
     "slide_type": "-"
    }
   },
   "outputs": [],
   "source": [
    "a, b = 208, 80\n",
    "while r:= a % b:\n",
    "    a, b = b, r\n",
    "print(b)"
   ]
  },
  {
   "cell_type": "code",
   "execution_count": null,
   "metadata": {
    "slideshow": {
     "slide_type": "-"
    }
   },
   "outputs": [],
   "source": [
    "b, r = 208, 80\n",
    "while r:= (a:=b) % (b:=r):\n",
    "    pass\n",
    "print(b)"
   ]
  },
  {
   "cell_type": "code",
   "execution_count": null,
   "metadata": {},
   "outputs": [],
   "source": [
    "(r := 208 % 80)"
   ]
  },
  {
   "cell_type": "markdown",
   "metadata": {
    "slideshow": {
     "slide_type": "slide"
    }
   },
   "source": [
    "### 자료형\n",
    "<img align='center' width=\"1200\" height=\"200\" src=\"python_data_types_2.png\" >"
   ]
  },
  {
   "cell_type": "markdown",
   "metadata": {
    "slideshow": {
     "slide_type": "slide"
    }
   },
   "source": [
    "- Numeric Types\n",
    "   + int: 정수형. 메모리가 허락하는 한 무제한의 자리수로 정수를 계산할 수 있음.\n",
    "   + float: 부동 소수점 형식의 실수형. IEEE 754 배정도(double precision, FP64, float64, binary64) 형식\n",
    "   + complex: 복소수형\n",
    "   + bool: int의 subclass로 True, False 두 object만 존재.\n",
    "- NoneType: None이 유일한 object로, 아무 값도 없는 것을 의미."
   ]
  },
  {
   "cell_type": "markdown",
   "metadata": {
    "slideshow": {
     "slide_type": "slide"
    }
   },
   "source": [
    "- 시퀀스형\n",
    "    * list: 변경 가능(mutable) 자료형.\n",
    "    * tuple: 변경 불가능(immutable) 자료형.\n",
    "    * string: 유니코드 문자열. 변경 불가능(immutable).\n",
    "       - character: utf-8 인코딩, 0 ~ 0x10FFFF 사이 정수인 Unicode code point\n",
    "    * bytes\n",
    "       - 0 과 255 사이의 숫자들의 시퀀스로 변경 불가능.\n",
    "       - 화면에 나타날 때는 ASCII 문자열\n",
    "    * bytearray: bytes의 변경 가능 버전\n",
    "    * range:range() 함수가 생성하는 변경 불가능 자료형"
   ]
  },
  {
   "cell_type": "markdown",
   "metadata": {
    "slideshow": {
     "slide_type": "slide"
    }
   },
   "source": [
    "- 리스트: 변경 가능"
   ]
  },
  {
   "cell_type": "code",
   "execution_count": null,
   "metadata": {
    "slideshow": {
     "slide_type": "-"
    }
   },
   "outputs": [],
   "source": [
    "a = [1, 2, 3]\n",
    "print(a, id(a))"
   ]
  },
  {
   "cell_type": "code",
   "execution_count": null,
   "metadata": {
    "slideshow": {
     "slide_type": "-"
    }
   },
   "outputs": [],
   "source": [
    "print(a[0])"
   ]
  },
  {
   "cell_type": "code",
   "execution_count": null,
   "metadata": {
    "slideshow": {
     "slide_type": "-"
    }
   },
   "outputs": [],
   "source": [
    "a[0] = 10\n",
    "print(a, id(a))"
   ]
  },
  {
   "cell_type": "markdown",
   "metadata": {
    "slideshow": {
     "slide_type": "slide"
    }
   },
   "source": [
    "- 튜플: 변경 불가능"
   ]
  },
  {
   "cell_type": "code",
   "execution_count": null,
   "metadata": {
    "slideshow": {
     "slide_type": "-"
    }
   },
   "outputs": [],
   "source": [
    "b = (1, 2, 3)\n",
    "print(b[0])\n"
   ]
  },
  {
   "cell_type": "code",
   "execution_count": null,
   "metadata": {
    "slideshow": {
     "slide_type": "-"
    }
   },
   "outputs": [],
   "source": [
    "b[0] = 10"
   ]
  },
  {
   "cell_type": "markdown",
   "metadata": {
    "slideshow": {
     "slide_type": "slide"
    }
   },
   "source": [
    "- 문자열: 변경 불가능"
   ]
  },
  {
   "cell_type": "code",
   "execution_count": null,
   "metadata": {
    "slideshow": {
     "slide_type": "-"
    }
   },
   "outputs": [],
   "source": [
    "s = \"abc한글\"\n",
    "print(s[1], s[3])"
   ]
  },
  {
   "cell_type": "code",
   "execution_count": null,
   "metadata": {
    "slideshow": {
     "slide_type": "-"
    }
   },
   "outputs": [],
   "source": [
    "s[1] = \"B\""
   ]
  },
  {
   "cell_type": "code",
   "execution_count": 12,
   "metadata": {
    "slideshow": {
     "slide_type": "slide"
    }
   },
   "outputs": [
    {
     "name": "stdout",
     "output_type": "stream",
     "text": [
      "The glyph of code point 0x31 (in decimal 49) is 1.\n",
      "The glyph of code point 0x61 (in decimal 97) is a.\n",
      "The glyph of code point 0x61 (in decimal 97) is a.\n",
      "The glyph of code point 0x41 (in decimal 65) is A.\n",
      "The glyph of code point 0x2161 (in decimal 8545) is Ⅱ.\n",
      "The glyph of code point 0x2164 (in decimal 8548) is Ⅴ.\n",
      "The glyph of code point 0x265e (in decimal 9822) is ♞.\n",
      "The glyph of code point 0x265f (in decimal 9823) is ♟.\n",
      "The glyph of code point 0x1f600 (in decimal 128512) is 😀.\n",
      "The glyph of code point 0x1f609 (in decimal 128521) is 😉.\n",
      "The glyph of code point 0xd55c (in decimal 54620) is 한.\n",
      "The glyph of code point 0xae00 (in decimal 44544) is 글.\n"
     ]
    }
   ],
   "source": [
    "code_points = (0x31, 0x61, 97, 0x41, 0x2161, 0x2164, 0x265e, \n",
    "               0x265f, 0x1f600, 0x1f609, 0xd55c, 0xae00)\n",
    "for cp in code_points:\n",
    "    print(f\"The glyph of code point 0x{cp:x} (in decimal {cp}) is {chr(cp)}.\")"
   ]
  },
  {
   "cell_type": "markdown",
   "metadata": {
    "slideshow": {
     "slide_type": "slide"
    }
   },
   "source": [
    "- 집합형\n",
    "   + set: 집합형. 중복을 허락하지 않는다. mutable.\n",
    "   + frozenset: immutable, hashable.\n",
    "- dict: 사전형. \n",
    "  * key-value 쌍"
   ]
  },
  {
   "cell_type": "code",
   "execution_count": 13,
   "metadata": {
    "slideshow": {
     "slide_type": "-"
    }
   },
   "outputs": [
    {
     "data": {
      "text/plain": [
       "{1, 4, 5, 6}"
      ]
     },
     "execution_count": 13,
     "metadata": {},
     "output_type": "execute_result"
    }
   ],
   "source": [
    "set1 = {1, 4, 5, 4, 6, 5, 4, 4}\n",
    "set1"
   ]
  },
  {
   "cell_type": "code",
   "execution_count": 14,
   "metadata": {
    "slideshow": {
     "slide_type": "-"
    }
   },
   "outputs": [
    {
     "data": {
      "text/plain": [
       "{'이름': '홍길동', 'age': 23}"
      ]
     },
     "execution_count": 14,
     "metadata": {},
     "output_type": "execute_result"
    }
   ],
   "source": [
    "dict1 = {'이름': '홍길동', 'age': 23}\n",
    "dict1"
   ]
  },
  {
   "cell_type": "code",
   "execution_count": 15,
   "metadata": {
    "slideshow": {
     "slide_type": "-"
    }
   },
   "outputs": [
    {
     "data": {
      "text/plain": [
       "'홍길동'"
      ]
     },
     "execution_count": 15,
     "metadata": {},
     "output_type": "execute_result"
    }
   ],
   "source": [
    "dict1['이름']"
   ]
  }
 ],
 "metadata": {
  "celltoolbar": "Slideshow",
  "kernelspec": {
   "display_name": "Python 3 (ipykernel)",
   "language": "python",
   "name": "python3"
  },
  "language_info": {
   "codemirror_mode": {
    "name": "ipython",
    "version": 3
   },
   "file_extension": ".py",
   "mimetype": "text/x-python",
   "name": "python",
   "nbconvert_exporter": "python",
   "pygments_lexer": "ipython3",
   "version": "3.9.7"
  },
  "latex_envs": {
   "LaTeX_envs_menu_present": true,
   "autoclose": false,
   "autocomplete": true,
   "bibliofile": "biblio.bib",
   "cite_by": "apalike",
   "current_citInitial": 1,
   "eqLabelWithNumbers": true,
   "eqNumInitial": 1,
   "hotkeys": {
    "equation": "Ctrl-E",
    "itemize": "Ctrl-I"
   },
   "labels_anchors": false,
   "latex_user_defs": false,
   "report_style_numbering": false,
   "user_envs_cfg": false
  },
  "toc": {
   "base_numbering": "2",
   "nav_menu": {},
   "number_sections": false,
   "sideBar": false,
   "skip_h1_title": false,
   "title_cell": "Table of Contents",
   "title_sidebar": "Contents",
   "toc_cell": false,
   "toc_position": {
    "height": "921.25px",
    "left": "36.9824px",
    "top": "110.195px",
    "width": "323.008px"
   },
   "toc_section_display": true,
   "toc_window_display": false
  }
 },
 "nbformat": 4,
 "nbformat_minor": 4
}
